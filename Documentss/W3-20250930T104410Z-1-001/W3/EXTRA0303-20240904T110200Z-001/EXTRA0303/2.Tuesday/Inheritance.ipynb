{
 "cells": [
  {
   "cell_type": "markdown",
   "id": "2f5a1662-8628-4f28-91da-cc84c82601f8",
   "metadata": {},
   "source": [
    "# Simple syntax using Inheritance"
   ]
  },
  {
   "cell_type": "code",
   "execution_count": null,
   "id": "75febcde-9f79-416a-a55b-6fa7df974ca0",
   "metadata": {},
   "outputs": [],
   "source": [
    "class SuperClass:\n",
    "    # Attributes and methods of Super Class\n",
    "\n",
    "class SubClass(SuperClass):\n",
    "    # Attributes and methods of Sub Class"
   ]
  },
  {
   "cell_type": "markdown",
   "id": "745f2c28-c888-4751-9074-53bccb6be2a7",
   "metadata": {},
   "source": [
    "# Example"
   ]
  },
  {
   "cell_type": "code",
   "execution_count": 11,
   "id": "5a53ebd4-ee9b-407c-96d0-f8026b32551e",
   "metadata": {},
   "outputs": [
    {
     "name": "stdout",
     "output_type": "stream",
     "text": [
      "Joey is a Cat of breed Siamese\n",
      "Some generic animal sound\n"
     ]
    }
   ],
   "source": [
    "class Animal:\n",
    "    def __init__(self, name):\n",
    "        self.name = name\n",
    "\n",
    "    def make_sound(self):\n",
    "        return \"Some generic animal sound\"\n",
    "\n",
    "class Cat(Animal):\n",
    "    def __init__(self, name, breed):\n",
    "        super().__init__(name)\n",
    "        self.breed = breed\n",
    "    \n",
    "    def info(self):\n",
    "        return f\"{self.name} is a Cat of breed {self.breed}\"\n",
    "\n",
    "my_cat = Cat(name=\"Joey\", breed=\"Siamese\")\n",
    "print(my_cat.info())\n",
    "print(my_cat.make_sound())"
   ]
  },
  {
   "cell_type": "markdown",
   "id": "aefa9b02-1a05-4cae-ba96-65f0270e3f10",
   "metadata": {},
   "source": [
    "# Access modifiers"
   ]
  },
  {
   "cell_type": "markdown",
   "id": "e191bb91-79b6-41f4-b439-08051016c8e5",
   "metadata": {},
   "source": [
    "## Public"
   ]
  },
  {
   "cell_type": "code",
   "execution_count": 12,
   "id": "72aab7ba-64d1-498f-91db-f4cdae0eb98e",
   "metadata": {},
   "outputs": [
    {
     "name": "stdout",
     "output_type": "stream",
     "text": [
      "Calico\n",
      "Black, white, and brown\n",
      "2\n"
     ]
    }
   ],
   "source": [
    "class Cat:\n",
    "    def __init__(self, name, color, age):\n",
    "        self.name = name\n",
    "        self.color = color\n",
    "        self.age = age\n",
    "\n",
    "# test\n",
    "cat = Cat('Calico', 'Black, white, and brown', 2)\n",
    "print(cat.name)\n",
    "print(cat.color)\n",
    "print(cat.age)"
   ]
  },
  {
   "cell_type": "markdown",
   "id": "c9db8110-4923-4d5d-9f16-f5cb70e3280b",
   "metadata": {},
   "source": [
    "## Private"
   ]
  },
  {
   "cell_type": "code",
   "execution_count": 13,
   "id": "2552998e-7282-40d8-8a90-d27106f0564b",
   "metadata": {},
   "outputs": [
    {
     "name": "stdout",
     "output_type": "stream",
     "text": [
      "Calico\n",
      "Black, white, and brown\n"
     ]
    },
    {
     "ename": "AttributeError",
     "evalue": "'Cat' object has no attribute '__age'",
     "output_type": "error",
     "traceback": [
      "\u001b[0;31m---------------------------------------------------------------------------\u001b[0m",
      "\u001b[0;31mAttributeError\u001b[0m                            Traceback (most recent call last)",
      "Cell \u001b[0;32mIn[13], line 12\u001b[0m\n\u001b[1;32m     10\u001b[0m \u001b[38;5;28mprint\u001b[39m(cat\u001b[38;5;241m.\u001b[39mname)\n\u001b[1;32m     11\u001b[0m \u001b[38;5;28mprint\u001b[39m(cat\u001b[38;5;241m.\u001b[39mcolor)\n\u001b[0;32m---> 12\u001b[0m \u001b[38;5;28mprint\u001b[39m(\u001b[43mcat\u001b[49m\u001b[38;5;241;43m.\u001b[39;49m\u001b[43m__age\u001b[49m)\n",
      "\u001b[0;31mAttributeError\u001b[0m: 'Cat' object has no attribute '__age'"
     ]
    }
   ],
   "source": [
    "class Cat:\n",
    "    def __init__(self, name, color, age):\n",
    "        self.name = name\n",
    "        self.color = color\n",
    "        self.__age = age # private\n",
    "\n",
    "\n",
    "# test\n",
    "cat = Cat('Calico', 'Black, white, and brown', 2)\n",
    "print(cat.name)\n",
    "print(cat.color)\n",
    "print(cat.__age)"
   ]
  },
  {
   "cell_type": "code",
   "execution_count": 14,
   "id": "ca66efca-6640-4d74-a603-e4d68009723b",
   "metadata": {},
   "outputs": [
    {
     "name": "stdout",
     "output_type": "stream",
     "text": [
      "Calico\n",
      "Black, white, and brown\n",
      "2\n"
     ]
    }
   ],
   "source": [
    "class Cat:\n",
    "    def __init__(self, name, color, age):\n",
    "        self.name = name\n",
    "        self.color = color\n",
    "        self.__age = age # private\n",
    "\n",
    "    # getter method\n",
    "    def get_age(self):\n",
    "        return self.__age\n",
    "\n",
    "    # setter method\n",
    "    def set_age(self, age):\n",
    "        self.__age = age\n",
    "\n",
    "# test\n",
    "cat = Cat('Calico', 'Black, white, and brown', 2)\n",
    "print(cat.name)\n",
    "print(cat.color)\n",
    "print(cat.get_age())"
   ]
  },
  {
   "cell_type": "markdown",
   "id": "e46d936c-bd86-4c61-b336-b245bbd394d0",
   "metadata": {},
   "source": [
    "## Protected"
   ]
  },
  {
   "cell_type": "code",
   "execution_count": 15,
   "id": "31d9cd5b-5a8d-4aae-bb64-da62a61101bf",
   "metadata": {},
   "outputs": [
    {
     "name": "stdout",
     "output_type": "stream",
     "text": [
      "Joey is a white Cat of breed Siamese\n",
      "Some generic animal sound\n"
     ]
    }
   ],
   "source": [
    "class Animal:\n",
    "    def __init__(self, name, color):\n",
    "        self.name = name\n",
    "        self._color = color\n",
    "    \n",
    "    def _make_sound(self):\n",
    "        return \"Some generic animal sound\"\n",
    "\n",
    "class Cat(Animal):\n",
    "    def __init__(self, name, color, breed):\n",
    "        super().__init__(name, color)\n",
    "        self.breed = breed\n",
    "    \n",
    "    def info(self):\n",
    "        return f\"{self.name} is a {self._color} Cat of breed {self.breed}\"\n",
    "\n",
    "    def sound(self):\n",
    "        return self._make_sound()\n",
    "\n",
    "my_cat = Cat(name=\"Joey\", color=\"white\", breed=\"Siamese\")\n",
    "\n",
    "print(my_cat.info())\n",
    "print(my_cat.sound())"
   ]
  },
  {
   "cell_type": "code",
   "execution_count": 16,
   "id": "91c9f1d4-f382-4cd4-8a76-4d5a9af2dbd4",
   "metadata": {},
   "outputs": [
    {
     "name": "stdout",
     "output_type": "stream",
     "text": [
      "white\n",
      "Some generic animal sound\n"
     ]
    }
   ],
   "source": [
    "class Animal:\n",
    "    def __init__(self, name, color):\n",
    "        self.name = name\n",
    "        self._color = color\n",
    "    \n",
    "    def _make_sound(self):\n",
    "        return \"Some generic animal sound\"\n",
    "\n",
    "class Cat(Animal):\n",
    "    def __init__(self, name, color, breed):\n",
    "        super().__init__(name, color)\n",
    "        self.breed = breed\n",
    "    \n",
    "    def info(self):\n",
    "        return f\"{self.name} is a {self._color} Cat of breed {self.breed}\"\n",
    "\n",
    "    def sound(self):\n",
    "        return self._make_sound()\n",
    "\n",
    "my_cat = Cat(name=\"Joey\", color=\"white\", breed=\"Siamese\")\n",
    "\n",
    "print(my_cat._color)\n",
    "print(my_cat._make_sound())"
   ]
  },
  {
   "cell_type": "markdown",
   "id": "1f4ed444-5126-4a34-9b00-06835dc12f03",
   "metadata": {},
   "source": [
    "# Single Inheritance"
   ]
  },
  {
   "cell_type": "code",
   "execution_count": 3,
   "id": "5d4ce0c1-46e4-4cd4-97bc-1e61e8e52fa0",
   "metadata": {},
   "outputs": [
    {
     "name": "stdout",
     "output_type": "stream",
     "text": [
      "Parent Name: Alice\n",
      "Child Age: 20\n"
     ]
    }
   ],
   "source": [
    "class Parent:\n",
    "    def __init__(self, name):\n",
    "        self.name = name\n",
    "\n",
    "    def display(self):\n",
    "        print(f\"Parent Name: {self.name}\")\n",
    "\n",
    "class Child(Parent):\n",
    "    def __init__(self, name, age):\n",
    "        super().__init__(name)\n",
    "        self.age = age\n",
    "\n",
    "    def display(self):\n",
    "        super().display()\n",
    "        print(f\"Child Age: {self.age}\")\n",
    "\n",
    "# Create object from Child\n",
    "child = Child(\"Alice\", 20)\n",
    "child.display()"
   ]
  },
  {
   "cell_type": "markdown",
   "id": "c276be45-ca2b-4218-a9d0-dd6a5017347e",
   "metadata": {},
   "source": [
    "# Multiple Inheritance"
   ]
  },
  {
   "cell_type": "code",
   "execution_count": 5,
   "id": "87ed23e1-d9af-4b74-afc1-4a93ad38415a",
   "metadata": {},
   "outputs": [
    {
     "name": "stdout",
     "output_type": "stream",
     "text": [
      "Base1 Initialized\n",
      "Base2 Initialized\n",
      "Derived Initialized\n",
      "Base1 Base2\n"
     ]
    }
   ],
   "source": [
    "class Base1:\n",
    "    def __init__(self):\n",
    "        self.str1 = \"Base1\"\n",
    "        print(\"Base1 Initialized\")\n",
    "\n",
    "class Base2:\n",
    "    def __init__(self):\n",
    "        self.str2 = \"Base2\"\n",
    "        print(\"Base2 Initialized\")\n",
    "\n",
    "class Derived(Base1, Base2):\n",
    "    def __init__(self):\n",
    "        Base1.__init__(self)\n",
    "        Base2.__init__(self)\n",
    "        print(\"Derived Initialized\")\n",
    "\n",
    "    def display(self):\n",
    "        print(self.str1, self.str2)\n",
    "\n",
    "# Create object from Derived class\n",
    "obj = Derived()\n",
    "obj.display()"
   ]
  },
  {
   "cell_type": "markdown",
   "id": "fd558925-fc71-405f-9c1f-e88c7d985158",
   "metadata": {},
   "source": [
    "# Multilevel Inheritance"
   ]
  },
  {
   "cell_type": "code",
   "execution_count": 7,
   "id": "a158d793-2771-4523-84ba-6bde19d23d3e",
   "metadata": {},
   "outputs": [
    {
     "name": "stdout",
     "output_type": "stream",
     "text": [
      "GrandParent Name: George\n",
      "Parent Name: John\n",
      "Child Name: Alice\n"
     ]
    }
   ],
   "source": [
    "class GrandParent:\n",
    "    def __init__(self, grandparent_name):\n",
    "        self.grandparent_name = grandparent_name\n",
    "\n",
    "    def display_grandparent(self):\n",
    "        print(f\"GrandParent Name: {self.grandparent_name}\")\n",
    "\n",
    "class Parent(GrandParent):\n",
    "    def __init__(self, grandparent_name, parent_name):\n",
    "        super().__init__(grandparent_name)\n",
    "        self.parent_name = parent_name\n",
    "\n",
    "    def display_parent(self):\n",
    "        print(f\"Parent Name: {self.parent_name}\")\n",
    "\n",
    "class Child(Parent):\n",
    "    def __init__(self, grandparent_name, parent_name, child_name):\n",
    "        super().__init__(grandparent_name, parent_name)\n",
    "        self.child_name = child_name\n",
    "\n",
    "    def display_child(self):\n",
    "        print(f\"Child Name: {self.child_name}\")\n",
    "\n",
    "# Create object from Child\n",
    "child = Child(\"George\", \"John\", \"Alice\")\n",
    "child.display_grandparent()  # Output: GrandParent Name: George\n",
    "child.display_parent()       # Output: Parent Name: John\n",
    "child.display_child()        # Output: Child Name: Alice"
   ]
  },
  {
   "cell_type": "markdown",
   "id": "ee4babba-9052-42cb-a562-a423ca3afb1c",
   "metadata": {},
   "source": [
    "# Hierarchical Inheritance"
   ]
  },
  {
   "cell_type": "code",
   "execution_count": null,
   "id": "83c0e6bd-67dc-4371-b5a5-3b32e2a79539",
   "metadata": {},
   "outputs": [],
   "source": [
    "class Parent:\n",
    "    def __init__(self, name):\n",
    "        self.name = name\n",
    "\n",
    "    def display(self):\n",
    "        print(f\"Parent Name: {self.name}\")\n",
    "\n",
    "class Child1(Parent):\n",
    "    def __init__(self, name, age):\n",
    "        super().__init__(name)\n",
    "        self.age = age\n",
    "\n",
    "    def display(self):\n",
    "        super().display()\n",
    "        print(f\"Child1 Age: {self.age}\")\n",
    "\n",
    "class Child2(Parent):\n",
    "    def __init__(self, name, grade):\n",
    "        super().__init__(name)\n",
    "        self.grade = grade\n",
    "\n",
    "    def display(self):\n",
    "        super().display()\n",
    "        print(f\"Child2 Grade: {self.grade}\")\n",
    "\n",
    "# Create objects from Child classes\n",
    "child1 = Child1(\"Alice\", 20)\n",
    "child2 = Child2(\"Bob\", \"A\")\n",
    "\n",
    "child1.display()\n",
    "# Output:\n",
    "# Parent Name: Alice\n",
    "# Child1 Age: 20\n",
    "\n",
    "child2.display()\n",
    "# Output:\n",
    "# Parent Name: Bob\n",
    "# Child2 Grade: A"
   ]
  },
  {
   "cell_type": "markdown",
   "id": "f67307b7",
   "metadata": {},
   "source": [
    "# Math problem"
   ]
  },
  {
   "cell_type": "code",
   "execution_count": 1,
   "id": "d7721cac",
   "metadata": {},
   "outputs": [],
   "source": [
    "class Math1:\n",
    "    def is_even(self, number):\n",
    "        if number%2:\n",
    "            return False\n",
    "        else:\n",
    "            return True\n",
    "    \n",
    "    def factorial(self, number):\n",
    "        result = 1\n",
    "        \n",
    "        for i in range(1, number+1):\n",
    "            result = result*i\n",
    "            \n",
    "        return result"
   ]
  },
  {
   "cell_type": "code",
   "execution_count": 2,
   "id": "fc3107ea",
   "metadata": {},
   "outputs": [
    {
     "name": "stdout",
     "output_type": "stream",
     "text": [
      "False\n",
      "True\n",
      "24\n",
      "120\n"
     ]
    }
   ],
   "source": [
    "# test Math1\n",
    "math1 = Math1()\n",
    "\n",
    "# is_even() sample: number=5 -> False\n",
    "# is_even() sample: number=6 -> True\n",
    "print(math1.is_even(5))\n",
    "print(math1.is_even(6))\n",
    "\n",
    "# factorial() sample: number=4 -> 24\n",
    "# factorial() sample: number=5 -> 120\n",
    "print(math1.factorial(4))\n",
    "print(math1.factorial(5))"
   ]
  },
  {
   "cell_type": "code",
   "execution_count": null,
   "id": "2c456289",
   "metadata": {},
   "outputs": [],
   "source": []
  },
  {
   "cell_type": "code",
   "execution_count": null,
   "id": "6adadeae",
   "metadata": {},
   "outputs": [],
   "source": []
  },
  {
   "cell_type": "code",
   "execution_count": 3,
   "id": "ea6e784a",
   "metadata": {},
   "outputs": [],
   "source": [
    "class Math2:\n",
    "    def is_even(self, number):\n",
    "        if number%2:\n",
    "            return False\n",
    "        else:\n",
    "            return True\n",
    "    \n",
    "    def factorial(self, number):\n",
    "        result = 1\n",
    "        \n",
    "        for i in range(1, number+1):\n",
    "            result = result*i\n",
    "            \n",
    "        return result\n",
    "    \n",
    "    def estimate_euler(self, number):\n",
    "        result = 1\n",
    "        \n",
    "        for i in range(1, number+1):\n",
    "            result = result + 1/self.factorial(i)\n",
    "            \n",
    "        return result"
   ]
  },
  {
   "cell_type": "code",
   "execution_count": 4,
   "id": "7de93560",
   "metadata": {},
   "outputs": [
    {
     "name": "stdout",
     "output_type": "stream",
     "text": [
      "False\n",
      "True\n",
      "24\n",
      "120\n",
      "2.5\n",
      "2.71827876984127\n"
     ]
    }
   ],
   "source": [
    "# test Math2\n",
    "math2 = Math2()\n",
    "\n",
    "# is_even() sample: number=5 -> False\n",
    "# is_even() sample: number=6 -> True\n",
    "print(math2.is_even(5))\n",
    "print(math2.is_even(6))\n",
    "\n",
    "# factorial() sample: number=4 -> 24\n",
    "# factorial() sample: number=5 -> 120\n",
    "print(math2.factorial(4))\n",
    "print(math2.factorial(5))\n",
    "\n",
    "# estimate_euler() sample: number=2 -> 2.5\n",
    "# estimate_euler() sample: number=8 -> 2.71\n",
    "print(math2.estimate_euler(2))\n",
    "print(math2.estimate_euler(8))"
   ]
  },
  {
   "cell_type": "code",
   "execution_count": null,
   "id": "3f0f4c96",
   "metadata": {},
   "outputs": [],
   "source": []
  },
  {
   "cell_type": "code",
   "execution_count": null,
   "id": "d0fb932a",
   "metadata": {},
   "outputs": [],
   "source": [
    "# using inheritance"
   ]
  },
  {
   "cell_type": "code",
   "execution_count": 5,
   "id": "27b12983",
   "metadata": {},
   "outputs": [],
   "source": [
    "class Math1:\n",
    "    def is_even(self, number):\n",
    "        if number%2:\n",
    "            return False\n",
    "        else:\n",
    "            return True\n",
    "    \n",
    "    def factorial(self, number):\n",
    "        result = 1\n",
    "        \n",
    "        for i in range(1, number+1):\n",
    "            result = result*i\n",
    "            \n",
    "        return result"
   ]
  },
  {
   "cell_type": "code",
   "execution_count": 6,
   "id": "df54ff69",
   "metadata": {},
   "outputs": [],
   "source": [
    "class Math2(Math1):    \n",
    "    def estimate_euler(self, number):\n",
    "        result = 1\n",
    "        \n",
    "        for i in range(1, number+1):\n",
    "            result = result + 1/self.factorial(i)\n",
    "            \n",
    "        return result"
   ]
  },
  {
   "cell_type": "code",
   "execution_count": 7,
   "id": "e015ff71",
   "metadata": {},
   "outputs": [
    {
     "name": "stdout",
     "output_type": "stream",
     "text": [
      "False\n",
      "True\n",
      "24\n",
      "120\n",
      "2.5\n",
      "2.71827876984127\n"
     ]
    }
   ],
   "source": [
    "# test Math2\n",
    "math2 = Math2()\n",
    "\n",
    "# is_even() sample: number=5 -> False\n",
    "# is_even() sample: number=6 -> True\n",
    "print(math2.is_even(5))\n",
    "print(math2.is_even(6))\n",
    "\n",
    "# factorial() sample: number=4 -> 24\n",
    "# factorial() sample: number=5 -> 120\n",
    "print(math2.factorial(4))\n",
    "print(math2.factorial(5))\n",
    "\n",
    "# estimate_euler() sample: number=2 -> 2.5\n",
    "# estimate_euler() sample: number=8 -> 2.71\n",
    "print(math2.estimate_euler(2))\n",
    "print(math2.estimate_euler(8))"
   ]
  },
  {
   "cell_type": "code",
   "execution_count": null,
   "id": "09437d30",
   "metadata": {},
   "outputs": [],
   "source": []
  },
  {
   "cell_type": "code",
   "execution_count": null,
   "id": "869dc9ff",
   "metadata": {},
   "outputs": [],
   "source": []
  },
  {
   "cell_type": "code",
   "execution_count": 1,
   "id": "f4263a5e",
   "metadata": {},
   "outputs": [],
   "source": [
    "class Math1:\n",
    "    def is_even(self, number):\n",
    "        if number%2:\n",
    "            return False\n",
    "        else:\n",
    "            return True\n",
    "    \n",
    "    def factorial(self, number):\n",
    "        result = 1\n",
    "        \n",
    "        for i in range(1, number+1):\n",
    "            result = result*i\n",
    "            \n",
    "        return result"
   ]
  },
  {
   "cell_type": "code",
   "execution_count": 4,
   "id": "e15ba00b",
   "metadata": {},
   "outputs": [],
   "source": [
    "class Math2(Math1):    \n",
    "    def estimate_euler(self, number):\n",
    "        result = 1\n",
    "        \n",
    "        for i in range(1, number+1):\n",
    "            result = result + 1/super().factorial(i)\n",
    "            \n",
    "        return result"
   ]
  },
  {
   "cell_type": "code",
   "execution_count": 5,
   "id": "5daf803b",
   "metadata": {},
   "outputs": [
    {
     "name": "stdout",
     "output_type": "stream",
     "text": [
      "False\n",
      "True\n",
      "24\n",
      "120\n",
      "2.5\n",
      "2.71827876984127\n"
     ]
    }
   ],
   "source": [
    "# test Math2\n",
    "math2 = Math2()\n",
    "\n",
    "# is_even() sample: number=5 -> False\n",
    "# is_even() sample: number=6 -> True\n",
    "print(math2.is_even(5))\n",
    "print(math2.is_even(6))\n",
    "\n",
    "# factorial() sample: number=4 -> 24\n",
    "# factorial() sample: number=5 -> 120\n",
    "print(math2.factorial(4))\n",
    "print(math2.factorial(5))\n",
    "\n",
    "# estimate_euler() sample: number=2 -> 2.5\n",
    "# estimate_euler() sample: number=8 -> 2.71\n",
    "print(math2.estimate_euler(2))\n",
    "print(math2.estimate_euler(8))"
   ]
  },
  {
   "cell_type": "code",
   "execution_count": null,
   "id": "4fda574b",
   "metadata": {},
   "outputs": [],
   "source": []
  },
  {
   "cell_type": "code",
   "execution_count": null,
   "id": "50a32bb0",
   "metadata": {},
   "outputs": [],
   "source": []
  }
 ],
 "metadata": {
  "kernelspec": {
   "display_name": "Python 3 (ipykernel)",
   "language": "python",
   "name": "python3"
  },
  "language_info": {
   "codemirror_mode": {
    "name": "ipython",
    "version": 3
   },
   "file_extension": ".py",
   "mimetype": "text/x-python",
   "name": "python",
   "nbconvert_exporter": "python",
   "pygments_lexer": "ipython3",
   "version": "3.9.0"
  }
 },
 "nbformat": 4,
 "nbformat_minor": 5
}
