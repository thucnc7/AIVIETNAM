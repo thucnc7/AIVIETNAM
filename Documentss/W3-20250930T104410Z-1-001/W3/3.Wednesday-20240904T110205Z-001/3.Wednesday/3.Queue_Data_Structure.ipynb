{
 "cells": [
  {
   "cell_type": "markdown",
   "id": "f300533f-0253-42a5-b42b-d8858edf5b77",
   "metadata": {},
   "source": [
    "## Context 1"
   ]
  },
  {
   "cell_type": "code",
   "execution_count": 1,
   "id": "c99ed301-59af-4c96-b164-cafef08d7456",
   "metadata": {},
   "outputs": [],
   "source": [
    "class MyQueue:\n",
    "    def __init__(self, capacity):\n",
    "        self.__capacity = capacity\n",
    "        self.__data = []\n",
    "\n",
    "    def is_full(self):\n",
    "        return len(self.__data) == self.__capacity\n",
    "\n",
    "    def enqueue(self, value):\n",
    "        if self.is_full():\n",
    "            print('Do nothing!')\n",
    "        else: \n",
    "            self.__data.append(value)\n",
    "\n",
    "    def print(self):\n",
    "        print(self.__data)"
   ]
  },
  {
   "cell_type": "code",
   "execution_count": 4,
   "id": "1ccc3ad4-9c1a-4956-886c-2c90c8187aa0",
   "metadata": {},
   "outputs": [
    {
     "name": "stdout",
     "output_type": "stream",
     "text": [
      "[]\n",
      "Do nothing!\n",
      "[9, 5, 2, 1, 0]\n"
     ]
    }
   ],
   "source": [
    "queue = MyQueue(5)\n",
    "queue.print()\n",
    "\n",
    "queue.enqueue(9)\n",
    "queue.enqueue(5)\n",
    "queue.enqueue(2)\n",
    "queue.enqueue(1)\n",
    "queue.enqueue(0)\n",
    "queue.enqueue(6)\n",
    "queue.print()"
   ]
  },
  {
   "cell_type": "markdown",
   "id": "ddca3488-e431-460d-a147-c09b6cec8c84",
   "metadata": {},
   "source": [
    "## Context 2"
   ]
  },
  {
   "cell_type": "code",
   "execution_count": 5,
   "id": "7fe0751e-17af-49bf-a4b7-3210593794d3",
   "metadata": {},
   "outputs": [],
   "source": [
    "class MyQueue:\n",
    "    def __init__(self, capacity):\n",
    "        self.__capacity = capacity\n",
    "        self.__data = []\n",
    "\n",
    "    def is_empty(self):\n",
    "        return len(self.__data) == 0\n",
    "\n",
    "    def dequeue(self):\n",
    "        if self.is_empty():\n",
    "            print('Do nothing!')\n",
    "            return None\n",
    "        else:\n",
    "            return self.__data.pop(0)\n",
    "\n",
    "    def print(self):\n",
    "        print(self.__data)"
   ]
  },
  {
   "cell_type": "code",
   "execution_count": 6,
   "id": "cca109d2-b05f-4a10-b93c-d54039c23b7c",
   "metadata": {},
   "outputs": [
    {
     "name": "stdout",
     "output_type": "stream",
     "text": [
      "[2, 1, 0]\n",
      "[]\n"
     ]
    }
   ],
   "source": [
    "queue = MyQueue(5)\n",
    "#...\n",
    "queue.print()\n",
    "\n",
    "queue.dequeue()\n",
    "queue.dequeue()\n",
    "queue.dequeue()\n",
    "queue.print()"
   ]
  },
  {
   "cell_type": "markdown",
   "id": "f9d32a5c-ca8c-4cac-9e70-4821cb61343d",
   "metadata": {},
   "source": [
    "## Complete"
   ]
  },
  {
   "cell_type": "code",
   "execution_count": null,
   "id": "60e675f7-8454-4ae3-b98c-2b09c53d9a8c",
   "metadata": {},
   "outputs": [],
   "source": [
    "class MyQueue:\n",
    "    def __init__(self, capacity):\n",
    "        self.__capacity = capacity\n",
    "        self.__data = []\n",
    "\n",
    "    def is_empty(self):\n",
    "        return len(self.__data) == 0\n",
    "\n",
    "    def is_full(self):\n",
    "        return len(self.__data) == self.__capacity\n",
    "\n",
    "    def dequeue(self):\n",
    "        if self.is_empty():\n",
    "            print('Do nothing!')\n",
    "            return None\n",
    "        else:\n",
    "            return self.__data.pop(0)\n",
    "\n",
    "    def enqueue(self, value):\n",
    "        if self.is_full():\n",
    "            print('Do nothing!')\n",
    "        else: \n",
    "            self.__data.append(value)\n",
    "\n",
    "    def print(self):\n",
    "        print(self.__data)"
   ]
  },
  {
   "cell_type": "code",
   "execution_count": null,
   "id": "5343eab4-ccf9-42f8-af0b-a9027a3e9bed",
   "metadata": {},
   "outputs": [],
   "source": []
  }
 ],
 "metadata": {
  "kernelspec": {
   "display_name": "Python 3 (ipykernel)",
   "language": "python",
   "name": "python3"
  },
  "language_info": {
   "codemirror_mode": {
    "name": "ipython",
    "version": 3
   },
   "file_extension": ".py",
   "mimetype": "text/x-python",
   "name": "python",
   "nbconvert_exporter": "python",
   "pygments_lexer": "ipython3",
   "version": "3.9.18"
  }
 },
 "nbformat": 4,
 "nbformat_minor": 5
}
