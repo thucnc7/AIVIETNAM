{
 "cells": [
  {
   "cell_type": "markdown",
   "id": "5db1bb48-5642-40a1-99f5-82f735e723e5",
   "metadata": {},
   "source": [
    "## context 1"
   ]
  },
  {
   "cell_type": "code",
   "execution_count": 3,
   "id": "fffa8b58-d10a-4699-a840-d06a37a90686",
   "metadata": {},
   "outputs": [
    {
     "name": "stdout",
     "output_type": "stream",
     "text": [
      "Calico\n",
      "0.8\n"
     ]
    }
   ],
   "source": [
    "# create a class\n",
    "class Cat:\n",
    "    name = 'Calico'\n",
    "    age = 0.8\n",
    "\n",
    "# test: create an object\n",
    "cat = Cat()\n",
    "print(cat.name)\n",
    "print(cat.age)"
   ]
  },
  {
   "cell_type": "code",
   "execution_count": 4,
   "id": "ff0e9d6c-02f6-4944-8855-beceb8e56210",
   "metadata": {},
   "outputs": [
    {
     "data": {
      "text/plain": [
       "__main__.Cat"
      ]
     },
     "execution_count": 4,
     "metadata": {},
     "output_type": "execute_result"
    }
   ],
   "source": [
    "type(cat)"
   ]
  },
  {
   "cell_type": "code",
   "execution_count": null,
   "id": "d9c6fee0-ad2a-4fa9-81e7-ac994b894bf0",
   "metadata": {},
   "outputs": [],
   "source": []
  },
  {
   "cell_type": "markdown",
   "id": "fd51e7a0-fa57-451c-b33b-9834026b0fc5",
   "metadata": {},
   "source": [
    "## context 2"
   ]
  },
  {
   "cell_type": "code",
   "execution_count": 6,
   "id": "9dc46645-ca01-4c76-b270-2cd3b277f955",
   "metadata": {},
   "outputs": [
    {
     "name": "stdout",
     "output_type": "stream",
     "text": [
      "unknown\n",
      "-1\n"
     ]
    }
   ],
   "source": [
    "# create a class\n",
    "class Cat:\n",
    "    name = 'unknown' \n",
    "    age = -1\n",
    "\n",
    "# test: create an object\n",
    "cat = Cat()\n",
    "print(cat.name)\n",
    "print(cat.age)"
   ]
  },
  {
   "cell_type": "code",
   "execution_count": null,
   "id": "0a5174cd-ad75-432e-8b41-d245155a549e",
   "metadata": {},
   "outputs": [],
   "source": []
  },
  {
   "cell_type": "code",
   "execution_count": 12,
   "id": "8ad332a9-887b-4cea-948e-763e904f27b8",
   "metadata": {},
   "outputs": [
    {
     "ename": "TypeError",
     "evalue": "set_init_values() takes 2 positional arguments but 3 were given",
     "output_type": "error",
     "traceback": [
      "\u001b[1;31m---------------------------------------------------------------------------\u001b[0m",
      "\u001b[1;31mTypeError\u001b[0m                                 Traceback (most recent call last)",
      "Cell \u001b[1;32mIn[12], line 12\u001b[0m\n\u001b[0;32m     10\u001b[0m \u001b[38;5;66;03m# test: create an object\u001b[39;00m\n\u001b[0;32m     11\u001b[0m cat \u001b[38;5;241m=\u001b[39m Cat()\n\u001b[1;32m---> 12\u001b[0m \u001b[43mcat\u001b[49m\u001b[38;5;241;43m.\u001b[39;49m\u001b[43mset_init_values\u001b[49m\u001b[43m(\u001b[49m\u001b[38;5;124;43m'\u001b[39;49m\u001b[38;5;124;43mCalico\u001b[39;49m\u001b[38;5;124;43m'\u001b[39;49m\u001b[43m,\u001b[49m\u001b[43m \u001b[49m\u001b[38;5;241;43m0.8\u001b[39;49m\u001b[43m)\u001b[49m\n\u001b[0;32m     13\u001b[0m \u001b[38;5;28mprint\u001b[39m(cat\u001b[38;5;241m.\u001b[39mname)\n\u001b[0;32m     14\u001b[0m \u001b[38;5;28mprint\u001b[39m(cat\u001b[38;5;241m.\u001b[39mage)\n",
      "\u001b[1;31mTypeError\u001b[0m: set_init_values() takes 2 positional arguments but 3 were given"
     ]
    }
   ],
   "source": [
    "# create a class\n",
    "class Cat:\n",
    "    name = 'unknown' \n",
    "    age = -1\n",
    "\n",
    "    def set_init_values(input_name, input_age):\n",
    "        name = input_name\n",
    "        age = input_age\n",
    "\n",
    "# test: create an object\n",
    "cat = Cat()\n",
    "cat.set_init_values('Calico', 0.8)\n",
    "print(cat.name)\n",
    "print(cat.age)"
   ]
  },
  {
   "cell_type": "code",
   "execution_count": null,
   "id": "15d6af9d-7d7f-4d6e-bf7a-ba1bfac4e5ca",
   "metadata": {},
   "outputs": [],
   "source": []
  },
  {
   "cell_type": "code",
   "execution_count": 15,
   "id": "1a960a79-9de4-4246-a7f3-8f6a681e2646",
   "metadata": {},
   "outputs": [
    {
     "name": "stdout",
     "output_type": "stream",
     "text": [
      "Calico\n",
      "0.8\n"
     ]
    }
   ],
   "source": [
    "# create a class\n",
    "class Cat:\n",
    "    name = 'unknown' \n",
    "    age = -1\n",
    "\n",
    "    def set_init_values(self, input_name, input_age):\n",
    "        self.name = input_name\n",
    "        self.age = input_age\n",
    "\n",
    "# test: create an object\n",
    "cat = Cat()\n",
    "cat.set_init_values('Calico', 0.8)\n",
    "print(cat.name)\n",
    "print(cat.age)"
   ]
  },
  {
   "cell_type": "code",
   "execution_count": 16,
   "id": "6211f7d7-0554-421f-a752-8b09f81a8440",
   "metadata": {},
   "outputs": [
    {
     "name": "stdout",
     "output_type": "stream",
     "text": [
      "Calico\n",
      "0.8\n"
     ]
    }
   ],
   "source": [
    "# create a class\n",
    "class Cat:\n",
    "    name = 'unknown' \n",
    "    age = -1\n",
    "\n",
    "    def set_init_values(self, name, age):\n",
    "        self.name = name\n",
    "        self.age = age\n",
    "\n",
    "# test: create an object\n",
    "cat = Cat()\n",
    "cat.set_init_values('Calico', 0.8)\n",
    "print(cat.name)\n",
    "print(cat.age)"
   ]
  },
  {
   "cell_type": "code",
   "execution_count": null,
   "id": "13b84b0c-55ba-489c-ae51-58a8cf1c30a9",
   "metadata": {},
   "outputs": [],
   "source": []
  },
  {
   "cell_type": "code",
   "execution_count": 17,
   "id": "f7bd0a31-2d1e-454d-a37d-dcf582e23d51",
   "metadata": {},
   "outputs": [
    {
     "name": "stdout",
     "output_type": "stream",
     "text": [
      "Calico\n",
      "0.8\n"
     ]
    }
   ],
   "source": [
    "# create a class\n",
    "class Cat:\n",
    "    def set_init_values(self, name, age):\n",
    "        self.name = name\n",
    "        self.age = age\n",
    "\n",
    "# test: create an object\n",
    "cat = Cat()\n",
    "cat.set_init_values('Calico', 0.8)\n",
    "print(cat.name)\n",
    "print(cat.age)"
   ]
  },
  {
   "cell_type": "code",
   "execution_count": null,
   "id": "44a30c2a-ab00-4a0a-9a85-88b3ad1dcdc9",
   "metadata": {},
   "outputs": [],
   "source": []
  },
  {
   "cell_type": "markdown",
   "id": "e5a377d5-aa7e-4a4d-a3b8-542fc11943e3",
   "metadata": {},
   "source": [
    "## context 3"
   ]
  },
  {
   "cell_type": "code",
   "execution_count": 21,
   "id": "ea5927c5-e058-492e-9fa3-c1ee840b5c99",
   "metadata": {},
   "outputs": [
    {
     "name": "stdout",
     "output_type": "stream",
     "text": [
      "Name: Calico - Age: 0.8\n",
      "Name: Calico - Age: 1.0\n"
     ]
    }
   ],
   "source": [
    "# create a class\n",
    "class Cat:\n",
    "    def set_init_values(self, name, age):\n",
    "        self.name = name\n",
    "        self.age = age\n",
    "\n",
    "    def increase_age(self, age):\n",
    "        self.age = self.age + age\n",
    "\n",
    "    def describe(self):\n",
    "        print(f'Name: {self.name} - Age: {self.age}')\n",
    "\n",
    "# test: create an object\n",
    "cat = Cat()\n",
    "cat.set_init_values('Calico', 0.8)\n",
    "cat.describe()\n",
    "\n",
    "cat.increase_age(0.2)\n",
    "cat.describe()"
   ]
  },
  {
   "cell_type": "code",
   "execution_count": null,
   "id": "f37e5512-4fd1-45b9-8ace-c90d62f1e95f",
   "metadata": {},
   "outputs": [],
   "source": []
  },
  {
   "cell_type": "code",
   "execution_count": 22,
   "id": "2cb37698-e1d1-4c14-b766-875f5c8d7683",
   "metadata": {},
   "outputs": [
    {
     "name": "stdout",
     "output_type": "stream",
     "text": [
      "Name: Calico - Age: 0.8\n",
      "Name: Calico - Age: 1.0\n"
     ]
    }
   ],
   "source": [
    "# create a class\n",
    "class Cat:\n",
    "    def __init__(self, name, age):\n",
    "        self.name = name\n",
    "        self.age = age\n",
    "\n",
    "    def increase_age(self, age):\n",
    "        self.age = self.age + age\n",
    "\n",
    "    def __call__(self):\n",
    "        print(f'Name: {self.name} - Age: {self.age}')\n",
    "\n",
    "# test: create an object\n",
    "cat = Cat('Calico', 0.8)\n",
    "cat()\n",
    "\n",
    "cat.increase_age(0.2)\n",
    "cat()"
   ]
  },
  {
   "cell_type": "code",
   "execution_count": null,
   "id": "bb9a4705-f659-4c5e-a0bd-bd7beaf5d590",
   "metadata": {},
   "outputs": [],
   "source": []
  },
  {
   "cell_type": "markdown",
   "id": "fe500869-29d9-4959-bd4d-1283f92b2fe0",
   "metadata": {},
   "source": [
    "## Context 4"
   ]
  },
  {
   "cell_type": "code",
   "execution_count": 23,
   "id": "b69209f1-7c50-4a07-9bf7-f40f698ef912",
   "metadata": {},
   "outputs": [
    {
     "name": "stdout",
     "output_type": "stream",
     "text": [
      "Name: Calico - Age: 0.8\n",
      "Name: Calico - Age: 1.1\n"
     ]
    }
   ],
   "source": [
    "# create a class\n",
    "class Cat:\n",
    "    def __init__(self, name, age):\n",
    "        self.name = name\n",
    "        self.age = age\n",
    "\n",
    "    def __call__(self):\n",
    "        print(f'Name: {self.name} - Age: {self.age}')\n",
    "\n",
    "# test: create an object\n",
    "cat = Cat('Calico', 0.8)\n",
    "cat()\n",
    "\n",
    "cat.age = cat.age + 0.3\n",
    "cat()"
   ]
  },
  {
   "cell_type": "code",
   "execution_count": null,
   "id": "48f3fe1d-8163-439c-9821-0bb6850b5c93",
   "metadata": {},
   "outputs": [],
   "source": []
  },
  {
   "cell_type": "code",
   "execution_count": 24,
   "id": "e2d3c4c3-cd73-43c0-8868-acfbcbea776c",
   "metadata": {},
   "outputs": [
    {
     "name": "stdout",
     "output_type": "stream",
     "text": [
      "Name: Calico - Age: 0.8\n",
      "Name: Calico - Age: 1.5\n"
     ]
    }
   ],
   "source": [
    "# create a class\n",
    "class Cat:\n",
    "    def __init__(self, name, age):\n",
    "        self.__name = name\n",
    "        self.__age = age\n",
    "\n",
    "    def __call__(self):\n",
    "        print(f'Name: {self.__name} - Age: {self.__age}')\n",
    "\n",
    "    def set_name(self, name):\n",
    "        self.__name = name\n",
    "\n",
    "    def set_age(self, age):\n",
    "        self.__age = age\n",
    "\n",
    "# test: create an object\n",
    "cat = Cat('Calico', 0.8)\n",
    "cat()\n",
    "\n",
    "cat.set_age(1.5)\n",
    "cat()"
   ]
  },
  {
   "cell_type": "code",
   "execution_count": null,
   "id": "29001066-6f6c-429d-bfcf-a56b25a793a4",
   "metadata": {},
   "outputs": [],
   "source": []
  },
  {
   "cell_type": "code",
   "execution_count": null,
   "id": "6e6b3967-e63a-4bd8-936f-99d32627ad5e",
   "metadata": {},
   "outputs": [],
   "source": []
  },
  {
   "cell_type": "code",
   "execution_count": null,
   "id": "677f3a0b-76fd-4368-82a5-d742f6fb006a",
   "metadata": {},
   "outputs": [],
   "source": []
  }
 ],
 "metadata": {
  "kernelspec": {
   "display_name": "Python 3 (ipykernel)",
   "language": "python",
   "name": "python3"
  },
  "language_info": {
   "codemirror_mode": {
    "name": "ipython",
    "version": 3
   },
   "file_extension": ".py",
   "mimetype": "text/x-python",
   "name": "python",
   "nbconvert_exporter": "python",
   "pygments_lexer": "ipython3",
   "version": "3.9.18"
  }
 },
 "nbformat": 4,
 "nbformat_minor": 5
}
