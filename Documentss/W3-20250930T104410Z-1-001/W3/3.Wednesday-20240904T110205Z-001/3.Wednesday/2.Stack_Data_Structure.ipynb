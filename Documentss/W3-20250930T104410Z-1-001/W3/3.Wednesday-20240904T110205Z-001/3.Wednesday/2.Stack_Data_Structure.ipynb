{
 "cells": [
  {
   "cell_type": "markdown",
   "id": "84e2b6a5-b71c-4032-ac27-541faa71ba09",
   "metadata": {},
   "source": [
    "## Context 1"
   ]
  },
  {
   "cell_type": "code",
   "execution_count": 4,
   "id": "0f9c7f32-872a-4bac-8120-54034a000a05",
   "metadata": {},
   "outputs": [],
   "source": [
    "class MyStack:\n",
    "    def __init__(self, capacity):\n",
    "        self.__capacity = capacity\n",
    "        self.__stack = []\n",
    "\n",
    "    def push(self, value):\n",
    "        self.__stack.append(value)            \n",
    "\n",
    "    def print(self):\n",
    "        print(self.__stack)"
   ]
  },
  {
   "cell_type": "code",
   "execution_count": 5,
   "id": "981c4134-0573-42c9-985a-164828ca56e2",
   "metadata": {},
   "outputs": [
    {
     "name": "stdout",
     "output_type": "stream",
     "text": [
      "[12, 8, 21]\n"
     ]
    }
   ],
   "source": [
    "stack = MyStack(5)\n",
    "stack.push(12)\n",
    "stack.push(8)\n",
    "stack.push(21)\n",
    "\n",
    "stack.print()"
   ]
  },
  {
   "cell_type": "code",
   "execution_count": null,
   "id": "345b423d-7a71-4018-ab7d-04f168cd9e6e",
   "metadata": {},
   "outputs": [],
   "source": []
  },
  {
   "cell_type": "code",
   "execution_count": 8,
   "id": "04b68c66-f2eb-430d-af6f-79ffd80e1b83",
   "metadata": {},
   "outputs": [],
   "source": [
    "class MyStack:\n",
    "    def __init__(self, capacity):\n",
    "        self.__capacity = capacity\n",
    "        self.__stack = []\n",
    "    def is_full(self):\n",
    "        return len(self.__stack) == self.__capacity\n",
    "    def push(self, value):\n",
    "        if self.is_full():\n",
    "            print('Do nothing!')\n",
    "        else:\n",
    "            self.__stack.append(value)\n",
    "    def print(self):\n",
    "        print(self.__stack)"
   ]
  },
  {
   "cell_type": "code",
   "execution_count": 10,
   "id": "36cbaa2e-b9df-4064-ba52-a9b632386507",
   "metadata": {},
   "outputs": [
    {
     "name": "stdout",
     "output_type": "stream",
     "text": [
      "Do nothing!\n",
      "[12, 8, 21, 33, 34]\n"
     ]
    }
   ],
   "source": [
    "stack = MyStack(5)\n",
    "stack.push(12)\n",
    "stack.push(8)\n",
    "stack.push(21)\n",
    "stack.push(33)\n",
    "stack.push(34)\n",
    "stack.push(35)\n",
    "stack.print()"
   ]
  },
  {
   "cell_type": "code",
   "execution_count": null,
   "id": "5ccc1f96-f363-4070-a8eb-4a9b55ca0331",
   "metadata": {},
   "outputs": [],
   "source": []
  },
  {
   "cell_type": "markdown",
   "id": "f6368269-8995-4e98-b9f7-c17d22a194a4",
   "metadata": {},
   "source": [
    "## Context 2"
   ]
  },
  {
   "cell_type": "code",
   "execution_count": 16,
   "id": "432dfd7a-ef7b-4dbb-ad56-6aa4a8c2bc8e",
   "metadata": {},
   "outputs": [],
   "source": [
    "class MyStack:\n",
    "    def __init__(self, capacity):\n",
    "        self.__capacity = capacity\n",
    "        self.__stack = []        \n",
    "    def is_empty(self):\n",
    "        return len(self.__stack) == 0        \n",
    "    def pop(self):\n",
    "        if self.is_empty():\n",
    "            print('Do nothing!')\n",
    "            return None\n",
    "        else:\n",
    "            return self.__stack.pop()            \n",
    "    def print(self):\n",
    "        print(self.__stack)"
   ]
  },
  {
   "cell_type": "code",
   "execution_count": 18,
   "id": "622e0f85-9496-4662-809e-45ab77435b66",
   "metadata": {},
   "outputs": [
    {
     "name": "stdout",
     "output_type": "stream",
     "text": [
      "[12, 8, 21, 33]\n",
      "[12]\n"
     ]
    }
   ],
   "source": [
    "stack = MyStack(5)\n",
    "# ...\n",
    "stack.print()\n",
    "stack.pop()\n",
    "stack.pop()\n",
    "stack.pop()\n",
    "stack.print()"
   ]
  },
  {
   "cell_type": "code",
   "execution_count": null,
   "id": "f075516e-1c05-4073-a0bc-9572a2792b42",
   "metadata": {},
   "outputs": [],
   "source": []
  },
  {
   "cell_type": "markdown",
   "id": "1a9ca026-6faa-4149-975e-f2d911717dbf",
   "metadata": {},
   "source": [
    "## Complete"
   ]
  },
  {
   "cell_type": "code",
   "execution_count": null,
   "id": "6f9886e9-f8c0-431e-9929-f3d9af9fa378",
   "metadata": {},
   "outputs": [],
   "source": [
    "class MyStack:\n",
    "    def __init__(self, capacity):\n",
    "        self.__capacity = capacity\n",
    "        self.__stack = []\n",
    "\n",
    "    def is_empty(self):\n",
    "        return len(self.__stack) == 0\n",
    "\n",
    "    def is_full(self):\n",
    "        return len(self.__stack) == self.__capacity\n",
    "\n",
    "    def pop(self):\n",
    "        if self.is_empty():\n",
    "            print('Do nothing!')\n",
    "            return None\n",
    "        else:\n",
    "            return self.__stack.pop()\n",
    "\n",
    "    def push(self, value):\n",
    "        if self.is_full():\n",
    "            print('Do nothing!')\n",
    "        else:\n",
    "            self.__stack.append(value)"
   ]
  }
 ],
 "metadata": {
  "kernelspec": {
   "display_name": "Python 3 (ipykernel)",
   "language": "python",
   "name": "python3"
  },
  "language_info": {
   "codemirror_mode": {
    "name": "ipython",
    "version": 3
   },
   "file_extension": ".py",
   "mimetype": "text/x-python",
   "name": "python",
   "nbconvert_exporter": "python",
   "pygments_lexer": "ipython3",
   "version": "3.9.18"
  }
 },
 "nbformat": 4,
 "nbformat_minor": 5
}
