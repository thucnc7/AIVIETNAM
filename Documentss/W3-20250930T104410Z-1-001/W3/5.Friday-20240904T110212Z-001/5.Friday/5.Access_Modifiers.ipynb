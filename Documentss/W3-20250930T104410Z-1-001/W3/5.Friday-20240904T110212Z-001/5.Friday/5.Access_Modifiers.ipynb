{
 "cells": [
  {
   "cell_type": "markdown",
   "id": "f9c54691",
   "metadata": {},
   "source": [
    "### case 1: public - protected - private for a class"
   ]
  },
  {
   "cell_type": "code",
   "execution_count": 4,
   "id": "05a0fbe4-bf74-4c43-a545-a9244eed316c",
   "metadata": {},
   "outputs": [
    {
     "name": "stdout",
     "output_type": "stream",
     "text": [
      "Calico\n",
      "Calico\n"
     ]
    }
   ],
   "source": [
    "# public\n",
    "class Cat:\n",
    "    def __init__(self):\n",
    "        self.name = 'Calico'\n",
    "\n",
    "    def describe(self):\n",
    "        print(self.name)\n",
    "\n",
    "# test\n",
    "a_cat = Cat()\n",
    "a_cat.describe()\n",
    "print(a_cat.name)"
   ]
  },
  {
   "cell_type": "code",
   "execution_count": 5,
   "id": "b594911c-0faf-4a60-b55f-145b7f1b7c7f",
   "metadata": {},
   "outputs": [
    {
     "name": "stdout",
     "output_type": "stream",
     "text": [
      "Calico\n"
     ]
    },
    {
     "ename": "AttributeError",
     "evalue": "'Cat' object has no attribute '__name'",
     "output_type": "error",
     "traceback": [
      "\u001b[1;31m---------------------------------------------------------------------------\u001b[0m",
      "\u001b[1;31mAttributeError\u001b[0m                            Traceback (most recent call last)",
      "Cell \u001b[1;32mIn[5], line 12\u001b[0m\n\u001b[0;32m     10\u001b[0m a_cat \u001b[38;5;241m=\u001b[39m Cat()\n\u001b[0;32m     11\u001b[0m a_cat\u001b[38;5;241m.\u001b[39mdescribe()\n\u001b[1;32m---> 12\u001b[0m \u001b[38;5;28mprint\u001b[39m(\u001b[43ma_cat\u001b[49m\u001b[38;5;241;43m.\u001b[39;49m\u001b[43m__name\u001b[49m)\n",
      "\u001b[1;31mAttributeError\u001b[0m: 'Cat' object has no attribute '__name'"
     ]
    }
   ],
   "source": [
    "# private\n",
    "class Cat:\n",
    "    def __init__(self):\n",
    "        self.__name = 'Calico'\n",
    "\n",
    "    def describe(self):\n",
    "        print(self.__name)\n",
    "\n",
    "# test\n",
    "a_cat = Cat()\n",
    "a_cat.describe()\n",
    "print(a_cat.__name)"
   ]
  },
  {
   "cell_type": "code",
   "execution_count": 6,
   "id": "e21b3ab2-192e-4905-952e-49c0832c4076",
   "metadata": {},
   "outputs": [
    {
     "name": "stdout",
     "output_type": "stream",
     "text": [
      "Calico\n",
      "Calico\n"
     ]
    }
   ],
   "source": [
    "# protected\n",
    "class Cat:\n",
    "    def __init__(self):\n",
    "        self._name = 'Calico'\n",
    "\n",
    "    def describe(self):\n",
    "        print(self._name)\n",
    "\n",
    "# test\n",
    "a_cat = Cat()\n",
    "a_cat.describe()\n",
    "print(a_cat._name)"
   ]
  },
  {
   "cell_type": "code",
   "execution_count": null,
   "id": "6c559d7c-aed2-47b1-bfb7-a4910a9d6ca0",
   "metadata": {},
   "outputs": [],
   "source": []
  },
  {
   "cell_type": "markdown",
   "id": "f9f3d362",
   "metadata": {},
   "source": [
    "## For inheritance"
   ]
  },
  {
   "cell_type": "code",
   "execution_count": 30,
   "id": "c19da224",
   "metadata": {},
   "outputs": [
    {
     "name": "stdout",
     "output_type": "stream",
     "text": [
      "Calico\n",
      "white\n"
     ]
    },
    {
     "ename": "AttributeError",
     "evalue": "'Cat' object has no attribute '_Cat__age'",
     "output_type": "error",
     "traceback": [
      "\u001b[1;31m---------------------------------------------------------------------------\u001b[0m",
      "\u001b[1;31mAttributeError\u001b[0m                            Traceback (most recent call last)",
      "Cell \u001b[1;32mIn[30], line 18\u001b[0m\n\u001b[0;32m     16\u001b[0m \u001b[38;5;66;03m# test\u001b[39;00m\n\u001b[0;32m     17\u001b[0m a_cat \u001b[38;5;241m=\u001b[39m Cat()\n\u001b[1;32m---> 18\u001b[0m \u001b[43ma_cat\u001b[49m\u001b[38;5;241;43m.\u001b[39;49m\u001b[43mdescribe\u001b[49m\u001b[43m(\u001b[49m\u001b[43m)\u001b[49m\n",
      "Cell \u001b[1;32mIn[30], line 14\u001b[0m, in \u001b[0;36mCat.describe\u001b[1;34m(self)\u001b[0m\n\u001b[0;32m     12\u001b[0m \u001b[38;5;28mprint\u001b[39m(\u001b[38;5;28mself\u001b[39m\u001b[38;5;241m.\u001b[39mname)\n\u001b[0;32m     13\u001b[0m \u001b[38;5;28mprint\u001b[39m(\u001b[38;5;28mself\u001b[39m\u001b[38;5;241m.\u001b[39m_color)\n\u001b[1;32m---> 14\u001b[0m \u001b[38;5;28mprint\u001b[39m(\u001b[38;5;28;43mself\u001b[39;49m\u001b[38;5;241;43m.\u001b[39;49m\u001b[43m__age\u001b[49m)\n",
      "\u001b[1;31mAttributeError\u001b[0m: 'Cat' object has no attribute '_Cat__age'"
     ]
    }
   ],
   "source": [
    "class Animal:\n",
    "    def __init__(self):\n",
    "        self.name = 'Calico'\n",
    "        self._color = 'white'\n",
    "        self.__age = 1.5\n",
    "\n",
    "class Cat(Animal):\n",
    "    def __init__(self):\n",
    "        super().__init__()\n",
    "\n",
    "    def describe(self):\n",
    "        print(self.name)\n",
    "        print(self._color)\n",
    "        print(self.__age)\n",
    "\n",
    "# test\n",
    "a_cat = Cat()\n",
    "a_cat.describe()"
   ]
  },
  {
   "cell_type": "code",
   "execution_count": 15,
   "id": "1145ca91",
   "metadata": {},
   "outputs": [
    {
     "name": "stdout",
     "output_type": "stream",
     "text": [
      "Calico\n",
      "white\n",
      "1.5\n"
     ]
    }
   ],
   "source": [
    "class Animal:\n",
    "    def __init__(self):\n",
    "        self.name = 'Calico'\n",
    "        self._color = 'white'\n",
    "        self.__age = 1.5\n",
    "\n",
    "class Cat(Animal):\n",
    "    def __init__(self):\n",
    "        super().__init__()\n",
    "\n",
    "    def describe(self):\n",
    "        print(self.name)\n",
    "        print(self._age)\n",
    "        print(self._Animal__age)\n",
    "\n",
    "# test\n",
    "a_cat = Cat()\n",
    "a_cat.describe()"
   ]
  },
  {
   "cell_type": "code",
   "execution_count": 31,
   "id": "7b886186",
   "metadata": {},
   "outputs": [
    {
     "name": "stdout",
     "output_type": "stream",
     "text": [
      "white\n",
      "white\n"
     ]
    }
   ],
   "source": [
    "class Animal:\n",
    "    def __init__(self):\n",
    "        self._age = 'white'\n",
    "\n",
    "class Cat(Animal):\n",
    "    def __init__(self):\n",
    "        super().__init__()\n",
    "\n",
    "    def describe(self):\n",
    "        print(self._age)\n",
    "\n",
    "# test\n",
    "a_cat = Cat()\n",
    "a_cat.describe()\n",
    "print(a_cat._age)"
   ]
  },
  {
   "cell_type": "markdown",
   "id": "6a014107",
   "metadata": {},
   "source": [
    "## Static Attributes"
   ]
  },
  {
   "cell_type": "code",
   "execution_count": 25,
   "id": "01c7ac4f-2516-474c-875e-f34f1f8a031e",
   "metadata": {},
   "outputs": [
    {
     "name": "stdout",
     "output_type": "stream",
     "text": [
      "Calico\n",
      "Calico\n"
     ]
    }
   ],
   "source": [
    "class Cat:\n",
    "    name = 'Calico'\n",
    "\n",
    "    def get_name(self):\n",
    "        return self.name\n",
    "\n",
    "# test\n",
    "print(Cat.name)\n",
    "a_cat = Cat()\n",
    "print(a_cat.get_name())"
   ]
  },
  {
   "cell_type": "code",
   "execution_count": 26,
   "id": "f2d3f446-b58d-434d-88ed-8a54f9449729",
   "metadata": {},
   "outputs": [
    {
     "name": "stdout",
     "output_type": "stream",
     "text": [
      "Calico\n",
      "Calico\n"
     ]
    }
   ],
   "source": [
    "class Cat:\n",
    "    name = 'Calico'\n",
    "\n",
    "    @staticmethod\n",
    "    def get_name():\n",
    "        return Cat.name\n",
    "\n",
    "# test\n",
    "print(Cat.name)\n",
    "print(Cat.get_name())"
   ]
  },
  {
   "cell_type": "code",
   "execution_count": null,
   "id": "319e7484-6efc-4eaa-a63f-63e3e41d7b93",
   "metadata": {},
   "outputs": [],
   "source": []
  },
  {
   "cell_type": "code",
   "execution_count": 28,
   "id": "abca78cb-3b9d-4c8b-b03f-8b17b19653b4",
   "metadata": {},
   "outputs": [
    {
     "ename": "AttributeError",
     "evalue": "type object 'Cat' has no attribute '__name'",
     "output_type": "error",
     "traceback": [
      "\u001b[1;31m---------------------------------------------------------------------------\u001b[0m",
      "\u001b[1;31mAttributeError\u001b[0m                            Traceback (most recent call last)",
      "Cell \u001b[1;32mIn[28], line 8\u001b[0m\n\u001b[0;32m      5\u001b[0m         \u001b[38;5;28;01mreturn\u001b[39;00m \u001b[38;5;28mself\u001b[39m\u001b[38;5;241m.\u001b[39m__name\n\u001b[0;32m      7\u001b[0m \u001b[38;5;66;03m# test\u001b[39;00m\n\u001b[1;32m----> 8\u001b[0m \u001b[38;5;28mprint\u001b[39m(\u001b[43mCat\u001b[49m\u001b[38;5;241;43m.\u001b[39;49m\u001b[43m__name\u001b[49m)\n\u001b[0;32m      9\u001b[0m a_cat \u001b[38;5;241m=\u001b[39m Cat()\n\u001b[0;32m     10\u001b[0m \u001b[38;5;28mprint\u001b[39m(a_cat\u001b[38;5;241m.\u001b[39mget_name())\n",
      "\u001b[1;31mAttributeError\u001b[0m: type object 'Cat' has no attribute '__name'"
     ]
    }
   ],
   "source": [
    "class Cat:\n",
    "    __name = 'Calico'\n",
    "\n",
    "    def get_name(self):\n",
    "        return self.__name\n",
    "\n",
    "# test\n",
    "print(Cat.__name)\n",
    "a_cat = Cat()\n",
    "print(a_cat.get_name())"
   ]
  },
  {
   "cell_type": "code",
   "execution_count": null,
   "id": "1dcff5e1-59ef-436e-9a12-9a9428098135",
   "metadata": {},
   "outputs": [],
   "source": []
  }
 ],
 "metadata": {
  "kernelspec": {
   "display_name": "Python 3 (ipykernel)",
   "language": "python",
   "name": "python3"
  },
  "language_info": {
   "codemirror_mode": {
    "name": "ipython",
    "version": 3
   },
   "file_extension": ".py",
   "mimetype": "text/x-python",
   "name": "python",
   "nbconvert_exporter": "python",
   "pygments_lexer": "ipython3",
   "version": "3.11.5"
  }
 },
 "nbformat": 4,
 "nbformat_minor": 5
}
