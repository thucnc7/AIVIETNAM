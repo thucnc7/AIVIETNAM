{
 "cells": [
  {
   "cell_type": "markdown",
   "id": "c6710d2f",
   "metadata": {},
   "source": [
    "## Inherit from the superclass"
   ]
  },
  {
   "cell_type": "markdown",
   "id": "3e28a54c",
   "metadata": {},
   "source": [
    "#### Problem"
   ]
  },
  {
   "cell_type": "code",
   "execution_count": 1,
   "id": "644c5ed4-e37d-43ac-bb1c-4c299b32e849",
   "metadata": {},
   "outputs": [],
   "source": [
    "class Math1:\n",
    "    def is_even(self, number):\n",
    "        if number%2:\n",
    "            return False\n",
    "        else:\n",
    "            return True\n",
    "    \n",
    "    def factorial(self, number):\n",
    "        result = 1\n",
    "        \n",
    "        for i in range(1, number+1):\n",
    "            result = result*i\n",
    "            \n",
    "        return result"
   ]
  },
  {
   "cell_type": "code",
   "execution_count": 2,
   "id": "3f43e261",
   "metadata": {},
   "outputs": [
    {
     "name": "stdout",
     "output_type": "stream",
     "text": [
      "False\n",
      "True\n",
      "24\n",
      "120\n"
     ]
    }
   ],
   "source": [
    "# test Math1\n",
    "math1 = Math1()\n",
    "\n",
    "# isEven() sample: number=5 -> False\n",
    "# isEven() sample: number=6 -> True\n",
    "print(math1.is_even(5))\n",
    "print(math1.is_even(6))\n",
    "\n",
    "# factorial() sample: number=4 -> 24\n",
    "# factorial() sample: number=5 -> 120\n",
    "print(math1.factorial(4))\n",
    "print(math1.factorial(5))"
   ]
  },
  {
   "cell_type": "code",
   "execution_count": null,
   "id": "bd73fdc4",
   "metadata": {},
   "outputs": [],
   "source": []
  },
  {
   "cell_type": "code",
   "execution_count": 3,
   "id": "1714e21f",
   "metadata": {},
   "outputs": [],
   "source": [
    "class Math2:\n",
    "    def is_even(self, number):\n",
    "        if number%2:\n",
    "            return False\n",
    "        else:\n",
    "            return True\n",
    "    \n",
    "    def factorial(self, number):\n",
    "        result = 1\n",
    "        \n",
    "        for i in range(1, number+1):\n",
    "            result = result*i\n",
    "            \n",
    "        return result\n",
    "    \n",
    "    def estimate_euler(self, number):\n",
    "        result = 1\n",
    "        \n",
    "        for i in range(1, number+1):\n",
    "            result = result + 1/self.factorial(i)\n",
    "            \n",
    "        return result"
   ]
  },
  {
   "cell_type": "code",
   "execution_count": 4,
   "id": "0e5fd967",
   "metadata": {},
   "outputs": [
    {
     "name": "stdout",
     "output_type": "stream",
     "text": [
      "False\n",
      "True\n",
      "24\n",
      "120\n",
      "2.5\n",
      "2.71827876984127\n"
     ]
    }
   ],
   "source": [
    "# test Math2\n",
    "math2 = Math2()\n",
    "\n",
    "# isEven() sample: number=5 -> False\n",
    "# isEven() sample: number=6 -> True\n",
    "print(math2.is_even(5))\n",
    "print(math2.is_even(6))\n",
    "\n",
    "# factorial() sample: number=4 -> 24\n",
    "# factorial() sample: number=5 -> 120\n",
    "print(math2.factorial(4))\n",
    "print(math2.factorial(5))\n",
    "\n",
    "# estimateEuler() sample: number=2 -> 2.5\n",
    "# estimateEuler() sample: number=8 -> 2.71\n",
    "print(math2.estimate_euler(2))\n",
    "print(math2.estimate_euler(8))"
   ]
  },
  {
   "cell_type": "code",
   "execution_count": null,
   "id": "1d2f492d",
   "metadata": {},
   "outputs": [],
   "source": []
  },
  {
   "cell_type": "markdown",
   "id": "1e2910ef",
   "metadata": {},
   "source": [
    "#### using inheritance"
   ]
  },
  {
   "cell_type": "code",
   "execution_count": 5,
   "id": "50ab7fd0",
   "metadata": {},
   "outputs": [],
   "source": [
    "class Math1:\n",
    "    def is_even(self, number):\n",
    "        if number%2:\n",
    "            return False\n",
    "        else:\n",
    "            return True\n",
    "    \n",
    "    def factorial(self, number):\n",
    "        result = 1\n",
    "        \n",
    "        for i in range(1, number+1):\n",
    "            result = result*i\n",
    "            \n",
    "        return result"
   ]
  },
  {
   "cell_type": "code",
   "execution_count": 6,
   "id": "5f9cbd6b",
   "metadata": {},
   "outputs": [],
   "source": [
    "class Math2(Math1):    \n",
    "    def estimate_euler(self, number):\n",
    "        result = 1\n",
    "        \n",
    "        for i in range(1, number+1):\n",
    "            #result = result + 1/super().factorial(i)\n",
    "            result = result + 1/self.factorial(i)\n",
    "            \n",
    "            \n",
    "        return result"
   ]
  },
  {
   "cell_type": "code",
   "execution_count": 7,
   "id": "2822d974",
   "metadata": {},
   "outputs": [
    {
     "name": "stdout",
     "output_type": "stream",
     "text": [
      "False\n",
      "True\n",
      "24\n",
      "120\n",
      "2.5\n",
      "2.71827876984127\n"
     ]
    }
   ],
   "source": [
    "# test Math2\n",
    "math2 = Math2()\n",
    "\n",
    "# isEven() sample: number=5 -> False\n",
    "# isEven() sample: number=6 -> True\n",
    "print(math2.is_even(5))\n",
    "print(math2.is_even(6))\n",
    "\n",
    "# factorial() sample: number=4 -> 24\n",
    "# factorial() sample: number=5 -> 120\n",
    "print(math2.factorial(4))\n",
    "print(math2.factorial(5))\n",
    "\n",
    "# estimateEuler() sample: number=2 -> 2.5\n",
    "# estimateEuler() sample: number=8 -> 2.71\n",
    "print(math2.estimate_euler(2))\n",
    "print(math2.estimate_euler(8))"
   ]
  },
  {
   "cell_type": "code",
   "execution_count": null,
   "id": "34b0c4a1",
   "metadata": {},
   "outputs": [],
   "source": []
  },
  {
   "cell_type": "code",
   "execution_count": null,
   "id": "7becb269",
   "metadata": {},
   "outputs": [],
   "source": []
  },
  {
   "cell_type": "code",
   "execution_count": null,
   "id": "1e7da8bc",
   "metadata": {},
   "outputs": [],
   "source": []
  }
 ],
 "metadata": {
  "kernelspec": {
   "display_name": "Python 3 (ipykernel)",
   "language": "python",
   "name": "python3"
  },
  "language_info": {
   "codemirror_mode": {
    "name": "ipython",
    "version": 3
   },
   "file_extension": ".py",
   "mimetype": "text/x-python",
   "name": "python",
   "nbconvert_exporter": "python",
   "pygments_lexer": "ipython3",
   "version": "3.11.5"
  }
 },
 "nbformat": 4,
 "nbformat_minor": 5
}
