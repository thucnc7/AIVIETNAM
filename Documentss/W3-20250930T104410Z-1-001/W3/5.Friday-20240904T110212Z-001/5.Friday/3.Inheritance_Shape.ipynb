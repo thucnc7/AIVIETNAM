{
 "cells": [
  {
   "cell_type": "markdown",
   "id": "6270b225",
   "metadata": {},
   "source": [
    "### Problem"
   ]
  },
  {
   "cell_type": "code",
   "execution_count": 1,
   "id": "fe96a688",
   "metadata": {},
   "outputs": [
    {
     "name": "stdout",
     "output_type": "stream",
     "text": [
      "<__main__.Shape object at 0x000001AD86BB74D0>\n"
     ]
    }
   ],
   "source": [
    "class Shape():   \n",
    "    pass\n",
    "\n",
    "# test\n",
    "a_shape = Shape()\n",
    "print(a_shape)"
   ]
  },
  {
   "cell_type": "code",
   "execution_count": null,
   "id": "827d4026",
   "metadata": {},
   "outputs": [],
   "source": []
  },
  {
   "cell_type": "markdown",
   "id": "fedc97f1",
   "metadata": {},
   "source": [
    "### Abstract Class"
   ]
  },
  {
   "cell_type": "code",
   "execution_count": 3,
   "id": "0db852bb",
   "metadata": {},
   "outputs": [
    {
     "ename": "TypeError",
     "evalue": "Can't instantiate abstract class Shape with abstract method compute_area",
     "output_type": "error",
     "traceback": [
      "\u001b[1;31m---------------------------------------------------------------------------\u001b[0m",
      "\u001b[1;31mTypeError\u001b[0m                                 Traceback (most recent call last)",
      "Cell \u001b[1;32mIn[3], line 9\u001b[0m\n\u001b[0;32m      6\u001b[0m         \u001b[38;5;28;01mpass\u001b[39;00m\n\u001b[0;32m      8\u001b[0m \u001b[38;5;66;03m# test\u001b[39;00m\n\u001b[1;32m----> 9\u001b[0m a_shape \u001b[38;5;241m=\u001b[39m \u001b[43mShape\u001b[49m\u001b[43m(\u001b[49m\u001b[43m)\u001b[49m\n\u001b[0;32m     10\u001b[0m \u001b[38;5;28mprint\u001b[39m(a_shape)\n",
      "\u001b[1;31mTypeError\u001b[0m: Can't instantiate abstract class Shape with abstract method compute_area"
     ]
    }
   ],
   "source": [
    "from abc import ABC, abstractmethod\n",
    "\n",
    "class Shape(ABC):\n",
    "    @abstractmethod\n",
    "    def compute_area(self):\n",
    "        pass\n",
    "\n",
    "# test\n",
    "a_shape = Shape()\n",
    "print(a_shape)"
   ]
  },
  {
   "cell_type": "code",
   "execution_count": null,
   "id": "384f2958",
   "metadata": {},
   "outputs": [],
   "source": []
  },
  {
   "cell_type": "markdown",
   "id": "1d51090f",
   "metadata": {},
   "source": [
    "### Example"
   ]
  },
  {
   "cell_type": "code",
   "execution_count": 15,
   "id": "b82082e9",
   "metadata": {},
   "outputs": [],
   "source": [
    "from abc import ABC, abstractmethod\n",
    "\n",
    "class Shape(ABC):\n",
    "    @abstractmethod\n",
    "    def compute_area(self):\n",
    "        pass   "
   ]
  },
  {
   "cell_type": "code",
   "execution_count": 5,
   "id": "911df673",
   "metadata": {},
   "outputs": [
    {
     "name": "stdout",
     "output_type": "stream",
     "text": [
      "25\n"
     ]
    }
   ],
   "source": [
    "class Square(Shape):\n",
    "    def __init__(self, side):\n",
    "        self.__side = side\n",
    "        \n",
    "    def compute_area(self):\n",
    "        return self.__side*self.__side\n",
    "    \n",
    "# test\n",
    "square = Square(5)\n",
    "print(square.compute_area())"
   ]
  },
  {
   "cell_type": "code",
   "execution_count": null,
   "id": "aee87a2e",
   "metadata": {},
   "outputs": [],
   "source": []
  },
  {
   "cell_type": "code",
   "execution_count": 6,
   "id": "ae77dfbf",
   "metadata": {},
   "outputs": [
    {
     "ename": "TypeError",
     "evalue": "Can't instantiate abstract class Cicle with abstract method compute_area",
     "output_type": "error",
     "traceback": [
      "\u001b[1;31m---------------------------------------------------------------------------\u001b[0m",
      "\u001b[1;31mTypeError\u001b[0m                                 Traceback (most recent call last)",
      "Cell \u001b[1;32mIn[6], line 6\u001b[0m\n\u001b[0;32m      3\u001b[0m         \u001b[38;5;28mself\u001b[39m\u001b[38;5;241m.\u001b[39m__radius \u001b[38;5;241m=\u001b[39m radius\n\u001b[0;32m      5\u001b[0m \u001b[38;5;66;03m# test\u001b[39;00m\n\u001b[1;32m----> 6\u001b[0m circle \u001b[38;5;241m=\u001b[39m \u001b[43mCicle\u001b[49m\u001b[43m(\u001b[49m\u001b[38;5;241;43m5\u001b[39;49m\u001b[43m)\u001b[49m\n",
      "\u001b[1;31mTypeError\u001b[0m: Can't instantiate abstract class Cicle with abstract method compute_area"
     ]
    }
   ],
   "source": [
    "class Cicle(Shape):\n",
    "    def __init__(self, radius):\n",
    "        self.__radius = radius\n",
    "\n",
    "# test\n",
    "circle = Cicle(5)"
   ]
  },
  {
   "cell_type": "code",
   "execution_count": null,
   "id": "3e64c5f2",
   "metadata": {},
   "outputs": [],
   "source": []
  },
  {
   "cell_type": "code",
   "execution_count": 7,
   "id": "18aafcab",
   "metadata": {},
   "outputs": [
    {
     "name": "stdout",
     "output_type": "stream",
     "text": [
      "78.53981633974483\n"
     ]
    }
   ],
   "source": [
    "import math\n",
    "\n",
    "class Cicle(Shape):\n",
    "    def __init__(self, radius):\n",
    "        self.__radius = radius\n",
    "        \n",
    "    def compute_area(self):\n",
    "        return self.__radius*self.__radius*math.pi\n",
    "    \n",
    "# test\n",
    "circle = Cicle(5)\n",
    "print(circle.compute_area())"
   ]
  },
  {
   "cell_type": "code",
   "execution_count": null,
   "id": "430a57c1",
   "metadata": {},
   "outputs": [],
   "source": []
  },
  {
   "cell_type": "markdown",
   "id": "085ab82a",
   "metadata": {},
   "source": [
    "### Open for Extension"
   ]
  },
  {
   "cell_type": "code",
   "execution_count": 6,
   "id": "d254fa83",
   "metadata": {},
   "outputs": [],
   "source": [
    "from abc import ABC, abstractmethod\n",
    "\n",
    "# Shape\n",
    "class Shape(ABC):\n",
    "    @abstractmethod\n",
    "    def compute_area(self):\n",
    "        pass   \n",
    "\n",
    "# Square\n",
    "class Square(Shape):\n",
    "    def __init__(self, side):\n",
    "        self.__side = side\n",
    "        \n",
    "    def compute_area(self):\n",
    "        return self.__side*self.__side\n",
    "    \n",
    "# Cicle\n",
    "class Cicle(Shape):\n",
    "    def __init__(self, radius):\n",
    "        self.__radius = radius\n",
    "        \n",
    "    def compute_area(self):\n",
    "        return self.__radius*self.__radius*3.14\n",
    "    \n",
    "# Canva\n",
    "class Canva:\n",
    "    def draw(self, a_shape):\n",
    "        return a_shape.compute_area()"
   ]
  },
  {
   "cell_type": "code",
   "execution_count": 10,
   "id": "7bd26548",
   "metadata": {},
   "outputs": [
    {
     "name": "stdout",
     "output_type": "stream",
     "text": [
      "3.14\n",
      "25\n"
     ]
    }
   ],
   "source": [
    "# test\n",
    "canva = Canva()\n",
    "print(canva.draw(Cicle(1)))\n",
    "print(canva.draw(Square(5)))"
   ]
  },
  {
   "cell_type": "code",
   "execution_count": null,
   "id": "ed924274",
   "metadata": {},
   "outputs": [],
   "source": []
  },
  {
   "cell_type": "code",
   "execution_count": 12,
   "id": "b25f754b",
   "metadata": {},
   "outputs": [],
   "source": [
    "# Rectangle\n",
    "class Rectangle(Shape):\n",
    "    def __init__(self, width, height):\n",
    "        self.__width = width\n",
    "        self.__height = height\n",
    "        \n",
    "    def compute_area(self):\n",
    "        return self.__width * self.__height\n"
   ]
  },
  {
   "cell_type": "code",
   "execution_count": 13,
   "id": "234cba55",
   "metadata": {},
   "outputs": [
    {
     "name": "stdout",
     "output_type": "stream",
     "text": [
      "3.14\n",
      "25\n",
      "20\n"
     ]
    }
   ],
   "source": [
    "# test\n",
    "canva = Canva()\n",
    "print(canva.draw(Cicle(1)))\n",
    "print(canva.draw(Square(5)))\n",
    "print(canva.draw(Rectangle(4,5)))"
   ]
  },
  {
   "cell_type": "code",
   "execution_count": null,
   "id": "6ee3610f",
   "metadata": {},
   "outputs": [],
   "source": []
  }
 ],
 "metadata": {
  "kernelspec": {
   "display_name": "Python 3 (ipykernel)",
   "language": "python",
   "name": "python3"
  },
  "language_info": {
   "codemirror_mode": {
    "name": "ipython",
    "version": 3
   },
   "file_extension": ".py",
   "mimetype": "text/x-python",
   "name": "python",
   "nbconvert_exporter": "python",
   "pygments_lexer": "ipython3",
   "version": "3.11.5"
  }
 },
 "nbformat": 4,
 "nbformat_minor": 5
}
