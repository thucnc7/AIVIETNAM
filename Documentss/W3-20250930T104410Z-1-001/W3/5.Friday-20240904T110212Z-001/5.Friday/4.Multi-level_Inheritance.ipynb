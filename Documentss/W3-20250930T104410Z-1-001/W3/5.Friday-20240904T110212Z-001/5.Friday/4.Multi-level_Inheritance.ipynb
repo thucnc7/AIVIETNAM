{
 "cells": [
  {
   "cell_type": "markdown",
   "metadata": {},
   "source": [
    "## Multi-level Inheritance"
   ]
  },
  {
   "cell_type": "code",
   "execution_count": 2,
   "metadata": {},
   "outputs": [
    {
     "name": "stdout",
     "output_type": "stream",
     "text": [
      "I am living!\n",
      "I am eating!\n",
      "I am wandering!\n"
     ]
    }
   ],
   "source": [
    "class Species:\n",
    "    def describe(self):\n",
    "        print('I am living!')\n",
    "\n",
    "class Animal(Species):\n",
    "    def eat(self):\n",
    "        print('I am eating!')\n",
    "\n",
    "class Cat(Animal):\n",
    "    def wander(self):\n",
    "        print('I am wandering!')\n",
    "\n",
    "# test\n",
    "a_cat = Cat()\n",
    "a_cat.describe()\n",
    "a_cat.eat()\n",
    "a_cat.wander()"
   ]
  },
  {
   "cell_type": "code",
   "execution_count": null,
   "metadata": {},
   "outputs": [],
   "source": []
  },
  {
   "cell_type": "markdown",
   "metadata": {},
   "source": [
    "## Multiple inheritance"
   ]
  },
  {
   "cell_type": "code",
   "execution_count": 6,
   "metadata": {},
   "outputs": [
    {
     "name": "stdout",
     "output_type": "stream",
     "text": [
      "John\n",
      "Take a rest!\n"
     ]
    }
   ],
   "source": [
    "class Father:\n",
    "    def advise(self):\n",
    "        print('Work hard!')\n",
    "\n",
    "class Mother:\n",
    "    def advise(self):\n",
    "        print('Take a rest!')\n",
    "\n",
    "class Child(Father, Mother):\n",
    "    def __init__(self, name):\n",
    "        self.__name = name\n",
    "\n",
    "    def describe(self, condition):\n",
    "        print(self.__name)\n",
    "        if condition == True:            \n",
    "            Father.advise(self)\n",
    "        else:\n",
    "            Mother.advise(self)\n",
    "\n",
    "# test\n",
    "john = Child('John')\n",
    "john.describe(False)"
   ]
  },
  {
   "cell_type": "code",
   "execution_count": null,
   "metadata": {},
   "outputs": [],
   "source": []
  },
  {
   "cell_type": "markdown",
   "metadata": {},
   "source": [
    "## Example"
   ]
  },
  {
   "cell_type": "code",
   "execution_count": 7,
   "metadata": {},
   "outputs": [],
   "source": [
    "from abc import ABC, abstractmethod\n",
    "\n",
    "# Bird\n",
    "class Bird(ABC):\n",
    "    @abstractmethod\n",
    "    def eat(self):\n",
    "        pass   \n",
    "\n",
    "# FlyingBird\n",
    "class FlyingBird(Bird):\n",
    "     def fly(self):\n",
    "        pass \n",
    "    \n",
    "# Parrot\n",
    "class Parrot(FlyingBird):        \n",
    "    def eat(self):\n",
    "        print('I like eating ...')\n",
    "    def fly(self):\n",
    "        print('I can fly')\n",
    "    \n",
    "# Penguin\n",
    "class Penguin(Bird):        \n",
    "    def eat(self):\n",
    "        print('I like eating ...')"
   ]
  },
  {
   "cell_type": "code",
   "execution_count": 8,
   "metadata": {},
   "outputs": [
    {
     "name": "stdout",
     "output_type": "stream",
     "text": [
      "I like eating ...\n",
      "I can fly\n",
      "I like eating ...\n"
     ]
    }
   ],
   "source": [
    "# test\n",
    "a_parrot = Parrot()\n",
    "a_parrot.eat()\n",
    "a_parrot.fly()\n",
    "\n",
    "a_penguin = Penguin()\n",
    "a_penguin.eat()"
   ]
  },
  {
   "cell_type": "code",
   "execution_count": null,
   "metadata": {},
   "outputs": [],
   "source": []
  }
 ],
 "metadata": {
  "kernelspec": {
   "display_name": "torch_env",
   "language": "python",
   "name": "python3"
  },
  "language_info": {
   "codemirror_mode": {
    "name": "ipython",
    "version": 3
   },
   "file_extension": ".py",
   "mimetype": "text/x-python",
   "name": "python",
   "nbconvert_exporter": "python",
   "pygments_lexer": "ipython3",
   "version": "3.11.5"
  }
 },
 "nbformat": 4,
 "nbformat_minor": 2
}
