{
 "cells": [
  {
   "cell_type": "markdown",
   "id": "61bf21e7",
   "metadata": {},
   "source": [
    "## Problem"
   ]
  },
  {
   "cell_type": "code",
   "execution_count": 1,
   "id": "842e89b2-e42a-4c90-bcc2-cc4137d5f3d5",
   "metadata": {},
   "outputs": [],
   "source": [
    "class Employee:\n",
    "    def __init__(self, name, salary):\n",
    "        self.__name = name\n",
    "        self.__salary = salary\n",
    "        \n",
    "    def compute_salary(self, factor):\n",
    "        return self.__salary*factor"
   ]
  },
  {
   "cell_type": "code",
   "execution_count": 4,
   "id": "f5b8635d",
   "metadata": {},
   "outputs": [
    {
     "name": "stdout",
     "output_type": "stream",
     "text": [
      "Peter Salary: 300.0\n"
     ]
    }
   ],
   "source": [
    "# test\n",
    "peter = Employee('Peter', 100)\n",
    "salary = peter.compute_salary(3.0)\n",
    "print(f'Peter Salary: {salary}')"
   ]
  },
  {
   "cell_type": "code",
   "execution_count": 2,
   "id": "5ef83400",
   "metadata": {},
   "outputs": [],
   "source": [
    "class Manager():\n",
    "    def __init__(self, name, salary, bonus):\n",
    "        self.__name = name\n",
    "        self.__salary = salary\n",
    "        self.__bonus = bonus\n",
    "        \n",
    "    def compute_salary(self, factor):\n",
    "        return self.__salary*factor + self.__bonus"
   ]
  },
  {
   "cell_type": "code",
   "execution_count": 6,
   "id": "cc9838f9",
   "metadata": {},
   "outputs": [
    {
     "name": "stdout",
     "output_type": "stream",
     "text": [
      "Mary Salary: 350.0\n"
     ]
    }
   ],
   "source": [
    "# test\n",
    "mary = Manager('Mary', 100, 50)\n",
    "salary = mary.compute_salary(3.0)\n",
    "print(f'Mary Salary: {salary}')"
   ]
  },
  {
   "cell_type": "code",
   "execution_count": null,
   "id": "ca4f8776",
   "metadata": {},
   "outputs": [],
   "source": []
  },
  {
   "cell_type": "markdown",
   "id": "82ba6c5f",
   "metadata": {},
   "source": [
    "## Using inheritance"
   ]
  },
  {
   "cell_type": "markdown",
   "id": "9ed51905",
   "metadata": {},
   "source": [
    "#### case 1"
   ]
  },
  {
   "cell_type": "code",
   "execution_count": 25,
   "id": "f4e26569",
   "metadata": {},
   "outputs": [
    {
     "name": "stdout",
     "output_type": "stream",
     "text": [
      "John Salary: 340.0\n"
     ]
    }
   ],
   "source": [
    "class Employee:\n",
    "    def __init__(self, name, salary):\n",
    "        self._name = name\n",
    "        self._salary = salary\n",
    "        \n",
    "    def compute_salary(self, factor):\n",
    "        return self._salary*factor\n",
    "    \n",
    "class Manager(Employee):\n",
    "    def __init__(self, name, salary, bonus):        \n",
    "        self._name = name\n",
    "        self._salary = salary\n",
    "        self.__bonus = bonus\n",
    "        \n",
    "    def compute_salary(self, factor):\n",
    "        return super().compute_salary(factor) + self.__bonus\n",
    "    \n",
    "# test\n",
    "john = Manager('John', 100, 40)\n",
    "salary = john.compute_salary(3.0)\n",
    "print(f'John Salary: {salary}')"
   ]
  },
  {
   "cell_type": "markdown",
   "id": "e57dd2fd",
   "metadata": {},
   "source": [
    "#### case 2"
   ]
  },
  {
   "cell_type": "code",
   "execution_count": 26,
   "id": "8a1e8800",
   "metadata": {},
   "outputs": [
    {
     "name": "stdout",
     "output_type": "stream",
     "text": [
      "John Salary: 340.0\n"
     ]
    }
   ],
   "source": [
    "class Employee:\n",
    "    def __init__(self, name, salary):\n",
    "        self._name = name\n",
    "        self._salary = salary\n",
    "        \n",
    "    def compute_salary(self, factor):\n",
    "        return self._salary*factor\n",
    "    \n",
    "class Manager(Employee):\n",
    "    def __init__(self, name, salary, bonus):\n",
    "        super().__init__(name, salary)\n",
    "        self.__bonus = bonus\n",
    "        \n",
    "    def compute_salary(self, factor):\n",
    "        return super().compute_salary(factor) + self.__bonus\n",
    "    \n",
    "# test\n",
    "john = Manager('John', 100, 40)\n",
    "salary = john.compute_salary(3.0)\n",
    "print(f'John Salary: {salary}')"
   ]
  },
  {
   "cell_type": "markdown",
   "id": "5aa84b7d",
   "metadata": {},
   "source": [
    "#### case 3"
   ]
  },
  {
   "cell_type": "code",
   "execution_count": 28,
   "id": "80bf5046",
   "metadata": {},
   "outputs": [
    {
     "name": "stdout",
     "output_type": "stream",
     "text": [
      "John Salary: 340.0\n",
      "John 100\n"
     ]
    }
   ],
   "source": [
    "class Employee:\n",
    "    def __init__(self, name, salary):\n",
    "        self._name = name\n",
    "        self._salary = salary\n",
    "        \n",
    "    def compute_salary(self, factor):\n",
    "        return self._salary*factor\n",
    "    \n",
    "class Manager(Employee):\n",
    "    def __init__(self, name, salary, bonus):\n",
    "        super().__init__(name, salary)\n",
    "        self.__bonus = bonus\n",
    "        \n",
    "    def compute_salary(self, factor):\n",
    "        return super().compute_salary(factor) + self.__bonus\n",
    "    \n",
    "    def describe(self):\n",
    "        print(self._name, self._salary)\n",
    "    \n",
    "# test\n",
    "john = Manager('John', 100, 40)\n",
    "salary = john.compute_salary(3.0)\n",
    "print(f'John Salary: {salary}')\n",
    "john.describe()"
   ]
  },
  {
   "cell_type": "markdown",
   "id": "d0621a5a",
   "metadata": {},
   "source": [
    "#### case 4"
   ]
  },
  {
   "cell_type": "code",
   "execution_count": 30,
   "id": "fbc7a485",
   "metadata": {},
   "outputs": [
    {
     "name": "stdout",
     "output_type": "stream",
     "text": [
      "John Salary: 340.0\n"
     ]
    }
   ],
   "source": [
    "class Employee:\n",
    "    def __init__(self, name, salary):\n",
    "        self._name = name\n",
    "        self._salary = salary\n",
    "        \n",
    "    def compute_salary(self, factor):\n",
    "        return self._salary*factor\n",
    "    \n",
    "class Manager(Employee):\n",
    "    def __init__(self, name, salary, bonus):\n",
    "        #super().__init__(name, salary)\n",
    "        Employee.__init__(self, name, salary)\n",
    "        self.__bonus = bonus\n",
    "        \n",
    "    def compute_salary(self, factor):        \n",
    "        #return super().compute_salary(factor) + self.__bonus\n",
    "        return Employee.compute_salary(self, factor) + self.__bonus\n",
    "        \n",
    "# test\n",
    "john = Manager('John', 100, 40)\n",
    "salary = john.compute_salary(3.0)\n",
    "print(f'John Salary: {salary}')"
   ]
  },
  {
   "cell_type": "code",
   "execution_count": null,
   "id": "9a7f5c9f",
   "metadata": {},
   "outputs": [],
   "source": []
  }
 ],
 "metadata": {
  "kernelspec": {
   "display_name": "Python 3 (ipykernel)",
   "language": "python",
   "name": "python3"
  },
  "language_info": {
   "codemirror_mode": {
    "name": "ipython",
    "version": 3
   },
   "file_extension": ".py",
   "mimetype": "text/x-python",
   "name": "python",
   "nbconvert_exporter": "python",
   "pygments_lexer": "ipython3",
   "version": "3.11.5"
  }
 },
 "nbformat": 4,
 "nbformat_minor": 5
}
