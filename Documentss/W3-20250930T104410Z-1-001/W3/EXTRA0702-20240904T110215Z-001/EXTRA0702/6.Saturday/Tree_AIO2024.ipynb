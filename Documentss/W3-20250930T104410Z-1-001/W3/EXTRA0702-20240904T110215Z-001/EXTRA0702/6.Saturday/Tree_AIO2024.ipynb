{
  "nbformat": 4,
  "nbformat_minor": 0,
  "metadata": {
    "colab": {
      "provenance": []
    },
    "kernelspec": {
      "name": "python3",
      "display_name": "Python 3"
    },
    "language_info": {
      "name": "python"
    }
  },
  "cells": [
    {
      "cell_type": "code",
      "source": [
        "queue = []\n",
        "queue.append('a')\n",
        "queue.append('b')\n",
        "queue.append('c')\n",
        "print(\"Initial queue\")\n",
        "print(queue)\n",
        "print(\"\\nElements dequeued from queue\")\n",
        "print(queue.pop(0))\n",
        "print(queue.pop(0))\n",
        "print(queue.pop(0))\n",
        "print(\"\\nQueue after removing elements\")\n",
        "print(queue)\n"
      ],
      "metadata": {
        "colab": {
          "base_uri": "https://localhost:8080/"
        },
        "id": "oLza5AwxBC_e",
        "outputId": "5d53c389-85d6-423e-c037-65295d5402e9"
      },
      "execution_count": null,
      "outputs": [
        {
          "output_type": "stream",
          "name": "stdout",
          "text": [
            "Initial queue\n",
            "['a', 'b', 'c']\n",
            "\n",
            "Elements dequeued from queue\n",
            "a\n",
            "b\n",
            "c\n",
            "\n",
            "Queue after removing elements\n",
            "[]\n"
          ]
        }
      ]
    },
    {
      "cell_type": "code",
      "source": [
        "from collections import deque\n",
        "q = deque()\n",
        "q.append('a')\n",
        "q.append('b')\n",
        "q.append('c')\n",
        "print(\"Initial queue\")\n",
        "print(q)\n",
        "print(\"\\nElements dequeued from the queue\")\n",
        "print(q.popleft())\n",
        "print(q.popleft())\n",
        "print(q.popleft())\n",
        "\n",
        "print(\"\\nQueue after removing elements\")\n",
        "print(q)\n"
      ],
      "metadata": {
        "colab": {
          "base_uri": "https://localhost:8080/"
        },
        "id": "dgHT8sIBBp3h",
        "outputId": "cc3f7a83-f2fb-4960-cd61-3d8172028c43"
      },
      "execution_count": null,
      "outputs": [
        {
          "output_type": "stream",
          "name": "stdout",
          "text": [
            "Initial queue\n",
            "deque(['a', 'b', 'c'])\n",
            "\n",
            "Elements dequeued from the queue\n",
            "a\n",
            "b\n",
            "c\n",
            "\n",
            "Queue after removing elements\n",
            "deque([])\n"
          ]
        }
      ]
    },
    {
      "cell_type": "code",
      "source": [
        "from queue import Queue\n",
        "q = Queue(maxsize = 3)\n",
        "print(q.qsize())\n",
        "q.put('a')\n",
        "q.put('b')\n",
        "q.put('c')\n",
        "print(\"\\nFull: \", q.full())\n",
        "print(\"\\nElements dequeued from the queue\")\n",
        "print(q.get())\n",
        "print(q.get())\n",
        "print(q.get())\n",
        "print(\"\\nEmpty: \", q.empty())\n",
        "q.put(1)\n",
        "print(\"\\nEmpty: \", q.empty())\n",
        "print(\"Full: \", q.full())\n"
      ],
      "metadata": {
        "colab": {
          "base_uri": "https://localhost:8080/"
        },
        "id": "A7vEGUq-B2xN",
        "outputId": "5c53d1be-fe0a-4a98-fb96-7a957d6451ec"
      },
      "execution_count": null,
      "outputs": [
        {
          "output_type": "stream",
          "name": "stdout",
          "text": [
            "0\n",
            "\n",
            "Full:  True\n",
            "\n",
            "Elements dequeued from the queue\n",
            "a\n",
            "b\n",
            "c\n",
            "\n",
            "Empty:  True\n",
            "\n",
            "Empty:  False\n",
            "Full:  False\n"
          ]
        }
      ]
    },
    {
      "cell_type": "code",
      "source": [
        "class TreeNode:\n",
        "    def __init__(self, data):\n",
        "        self.data = data\n",
        "        self.children = []\n",
        "        self.parent = None\n",
        "\n",
        "    def add_child(self, child):\n",
        "        child.parent = self\n",
        "        self.children.append(child)\n",
        "\n",
        "    def get_level(self): #to get level of each node\n",
        "        level =0\n",
        "        p = self.parent\n",
        "        while p:\n",
        "            level += 1\n",
        "            p = p.parent\n",
        "\n",
        "        return level\n",
        "    def print_tree(self):\n",
        "        space = ' ' * self.get_level() * 3\n",
        "        prefix = space + '|__' if self.parent else ''\n",
        "        print(prefix + self.data)#add prefix\n",
        "        if self.children:\n",
        "            for child in self.children:\n",
        "                child.print_tree()"
      ],
      "metadata": {
        "id": "6c0Tka3n8KrZ"
      },
      "execution_count": null,
      "outputs": []
    },
    {
      "cell_type": "code",
      "source": [
        "def create_tree():\n",
        "  a_node = TreeNode(\"A\")\n",
        "  b_node = TreeNode(\"B\")\n",
        "  c_node = TreeNode(\"C\")\n",
        "  d_node = TreeNode(\"D\")\n",
        "  e_node = TreeNode(\"E\")\n",
        "  f_node = TreeNode(\"F\")\n",
        "  g_node = TreeNode(\"G\")\n",
        "\n",
        "  a_node.add_child(b_node)\n",
        "  a_node.add_child(c_node)\n",
        "\n",
        "  b_node.add_child(d_node)\n",
        "  b_node.add_child(e_node)\n",
        "\n",
        "  c_node.add_child(f_node)\n",
        "  c_node.add_child(g_node)\n",
        "  return a_node"
      ],
      "metadata": {
        "id": "IDW43KbV841R"
      },
      "execution_count": null,
      "outputs": []
    },
    {
      "cell_type": "code",
      "source": [
        "tree = create_tree()\n",
        "tree.print_tree()"
      ],
      "metadata": {
        "colab": {
          "base_uri": "https://localhost:8080/"
        },
        "id": "HASwYgP3vtiA",
        "outputId": "974a6a3a-1dfe-4b50-aaf3-439d43c803a8"
      },
      "execution_count": null,
      "outputs": [
        {
          "output_type": "stream",
          "name": "stdout",
          "text": [
            "A\n",
            "   |__B\n",
            "      |__D\n",
            "      |__E\n",
            "   |__C\n",
            "      |__F\n",
            "      |__G\n"
          ]
        }
      ]
    },
    {
      "cell_type": "code",
      "source": [
        "class Node:\n",
        "    def __init__(self, key):\n",
        "        self.left = None\n",
        "        self.right = None\n",
        "        self.val = key"
      ],
      "metadata": {
        "id": "FfQTj7flwVu1"
      },
      "execution_count": null,
      "outputs": []
    },
    {
      "cell_type": "code",
      "source": [
        "a_node = Node(\"A\")\n",
        "b_node = Node(\"B\")\n",
        "c_node = Node(\"C\")"
      ],
      "metadata": {
        "id": "faqx_0MHxyjf"
      },
      "execution_count": null,
      "outputs": []
    },
    {
      "cell_type": "code",
      "source": [
        "from collections import deque\n",
        "\n",
        "# Node class to define the structure of the node\n",
        "class Node:\n",
        "    def __init__(self, val):\n",
        "        self.data = val\n",
        "        self.left = self.right = None\n",
        "\n",
        "# Function to insert nodes\n",
        "def insert(root, data):\n",
        "    # If tree is empty, new node becomes the root\n",
        "    if root is None:\n",
        "        root = Node(data)\n",
        "        return root\n",
        "\n",
        "    # Queue to traverse the tree and find the position to insert the node\n",
        "    q = deque()\n",
        "    q.append(root)\n",
        "    while q:\n",
        "        temp = q.popleft()\n",
        "        # Insert node as the left child of the parent node\n",
        "        if temp.left is None:\n",
        "            temp.left = Node(data)\n",
        "            break\n",
        "        # If the left child is not null push it to the queue\n",
        "        else:\n",
        "            q.append(temp.left)\n",
        "        # Insert node as the right child of parent node\n",
        "        if temp.right is None:\n",
        "            temp.right = Node(data)\n",
        "            break\n",
        "        # If the right child is not null push it to the queue\n",
        "        else:\n",
        "            q.append(temp.right)\n",
        "    return root\n",
        "\n",
        "# Function to delete the given deepest node (d_node) in binary tree\n",
        "def deletDeepest(root, d_node):\n",
        "    q = deque()\n",
        "    q.append(root)\n",
        "    # Do level order traversal until last node\n",
        "    while q:\n",
        "        temp = q.popleft()\n",
        "        if temp == d_node:\n",
        "            temp = None\n",
        "            del d_node\n",
        "            return\n",
        "        if temp.right:\n",
        "            if temp.right == d_node:\n",
        "                temp.right = None\n",
        "                del d_node\n",
        "                return\n",
        "            else:\n",
        "                q.append(temp.right)\n",
        "        if temp.left:\n",
        "            if temp.left == d_node:\n",
        "                temp.left = None\n",
        "                del d_node\n",
        "                return\n",
        "            else:\n",
        "                q.append(temp.left)\n",
        "\n",
        "# Function to delete element in binary tree\n",
        "def deletion(root, key):\n",
        "    if not root:\n",
        "        return None\n",
        "    if root.left is None and root.right is None:\n",
        "        if root.data == key:\n",
        "            return None\n",
        "        else:\n",
        "            return root\n",
        "\n",
        "    q = deque()\n",
        "    q.append(root)\n",
        "    temp = None\n",
        "    key_node = None\n",
        "    # Do level order traversal to find deepest node (temp) and node to be deleted (key_node)\n",
        "    while q:\n",
        "        temp = q.popleft()\n",
        "        if temp.data == key:\n",
        "            key_node = temp\n",
        "        if temp.left:\n",
        "            q.append(temp.left)\n",
        "        if temp.right:\n",
        "            q.append(temp.right)\n",
        "\n",
        "    if key_node is not None:\n",
        "        x = temp.data\n",
        "        key_node.data = x\n",
        "        deletDeepest(root, temp)\n",
        "    return root\n",
        "\n",
        "# Inorder tree traversal (Left - Root - Right)\n",
        "def inorderTraversal(root):\n",
        "    if not root:\n",
        "        return\n",
        "    inorderTraversal(root.left)\n",
        "    print(root.data, end=\" \")\n",
        "    inorderTraversal(root.right)\n",
        "\n",
        "# Preorder tree traversal (Root - Left - Right)\n",
        "def preorderTraversal(root):\n",
        "    if not root:\n",
        "        return\n",
        "    print(root.data, end=\" \")\n",
        "    preorderTraversal(root.left)\n",
        "    preorderTraversal(root.right)\n",
        "\n",
        "# Postorder tree traversal (Left - Right - Root)\n",
        "def postorderTraversal(root):\n",
        "    if root is None:\n",
        "        return\n",
        "    postorderTraversal(root.left)\n",
        "    postorderTraversal(root.right)\n",
        "    print(root.data, end=\" \")\n",
        "\n",
        "# Function for Level order tree traversal\n",
        "def levelorderTraversal(root):\n",
        "    if root is None:\n",
        "        return\n",
        "\n",
        "    # Queue for level order traversal\n",
        "    q = deque()\n",
        "    q.append(root)\n",
        "    while q:\n",
        "        temp = q.popleft()\n",
        "        print(temp.data, end=\" \")\n",
        "        # Push left child in the queue\n",
        "        if temp.left:\n",
        "            q.append(temp.left)\n",
        "        # Push right child in the queue\n",
        "        if temp.right:\n",
        "            q.append(temp.right)\n",
        "\n",
        "# Driver function to check the above algorithm\n",
        "if __name__ == \"__main__\":\n",
        "    root = None\n",
        "    # Insertion of nodes\n",
        "    root = insert(root, 10)\n",
        "    root = insert(root, 20)\n",
        "    root = insert(root, 30)\n",
        "    root = insert(root, 40)\n",
        "\n",
        "    print(\"Preorder traversal:\", end=\" \")\n",
        "    preorderTraversal(root)\n",
        "\n",
        "    print(\"\\nInorder traversal:\", end=\" \")\n",
        "    inorderTraversal(root)\n",
        "\n",
        "    print(\"\\nPostorder traversal:\", end=\" \")\n",
        "    postorderTraversal(root)\n",
        "\n",
        "    print(\"\\nLevel order traversal:\", end=\" \")\n",
        "    levelorderTraversal(root)\n",
        "\n",
        "    # Delete the node with data = 20\n",
        "    root = deletion(root, 20)\n",
        "\n",
        "    print(\"\\nInorder traversal after deletion:\", end=\" \")\n",
        "    inorderTraversal(root)\n"
      ],
      "metadata": {
        "colab": {
          "base_uri": "https://localhost:8080/"
        },
        "id": "wn93n6kBzggK",
        "outputId": "f2c8ad96-33cd-49f5-8fed-7aff358dcde7"
      },
      "execution_count": null,
      "outputs": [
        {
          "output_type": "stream",
          "name": "stdout",
          "text": [
            "Preorder traversal: 10 20 40 30 \n",
            "Inorder traversal: 40 20 10 30 \n",
            "Postorder traversal: 40 20 30 10 \n",
            "Level order traversal: 10 20 30 40 \n",
            "Inorder traversal after deletion: 40 10 30 "
          ]
        }
      ]
    },
    {
      "cell_type": "code",
      "source": [
        "from graphviz import Graph\n",
        "\n",
        "class TreeNode:\n",
        "    def __init__(self, key):\n",
        "        self.left = None\n",
        "        self.right = None\n",
        "        self.val = key\n",
        "\n",
        "def insert_node(root, key):\n",
        "    # Create a new node\n",
        "    new_node = TreeNode(key)\n",
        "\n",
        "    # If the tree is empty, the new node becomes the root\n",
        "    if root is None:\n",
        "        return new_node\n",
        "\n",
        "    # Use a queue to perform level-order traversal\n",
        "    queue = []\n",
        "    queue.append(root)\n",
        "\n",
        "    # Traverse the tree\n",
        "    while queue:\n",
        "        # Dequeue a node\n",
        "        temp = queue.pop(0)\n",
        "\n",
        "        # Check if the left child is empty\n",
        "        if temp.left is None:\n",
        "            temp.left = new_node\n",
        "            return root\n",
        "        else:\n",
        "            queue.append(temp.left)\n",
        "\n",
        "        # Check if the right child is empty\n",
        "        if temp.right is None:\n",
        "            temp.right = new_node\n",
        "            return root\n",
        "        else:\n",
        "            queue.append(temp.right)\n",
        "\n",
        "    return root\n",
        "\n",
        "def add_edges(dot, node):\n",
        "    if node is None:\n",
        "        return\n",
        "    if node.left:\n",
        "        dot.edge(str(node.val), str(node.left.val))\n",
        "        add_edges(dot, node.left)\n",
        "    if node.right:\n",
        "        dot.edge(str(node.val), str(node.right.val))\n",
        "        add_edges(dot, node.right)\n",
        "\n",
        "def draw_tree(root):\n",
        "    dot = Graph()\n",
        "    dot.node(str(root.val))\n",
        "    add_edges(dot, root)\n",
        "    return dot\n",
        "\n",
        "# Driver code\n",
        "if __name__ == '__main__':\n",
        "    # Create the root of the tree\n",
        "    root = TreeNode(1)\n",
        "    root.left = TreeNode(2)\n",
        "    root.right = TreeNode(3)\n",
        "    root.left.left = TreeNode(4)\n",
        "    root.left.right = TreeNode(5)\n",
        "\n",
        "    dot = draw_tree(root)\n",
        "    dot.render('orignial_tree', format='png', view=True)\n",
        "\n",
        "    key = 6\n",
        "    print(f\"\\nInserting {key} into the binary tree.\")\n",
        "    root = insert_node(root, key)\n",
        "\n",
        "    dot = draw_tree(root)\n",
        "    dot.render('after_tree', format='png', view=True)"
      ],
      "metadata": {
        "colab": {
          "base_uri": "https://localhost:8080/"
        },
        "id": "2VoWd-XOvJH8",
        "outputId": "3f835294-7bd7-41c3-db5b-6c729a0bbd7f"
      },
      "execution_count": null,
      "outputs": [
        {
          "output_type": "stream",
          "name": "stdout",
          "text": [
            "\n",
            "Inserting 6 into the binary tree.\n"
          ]
        }
      ]
    },
    {
      "cell_type": "code",
      "source": [
        "from collections import deque\n",
        "\n",
        "def visualize_tree(root):\n",
        "    dot = Graph()\n",
        "\n",
        "    def add_edges(dot, node):\n",
        "        if node:\n",
        "            dot.node(str(node.val))\n",
        "            if node.left:\n",
        "                dot.edge(str(node.val), str(node.left.val))\n",
        "                add_edges(dot, node.left)\n",
        "            if node.right:\n",
        "                dot.edge(str(node.val), str(node.right.val))\n",
        "                add_edges(dot, node.right)\n",
        "\n",
        "    add_edges(dot, root)\n",
        "    return dot\n",
        "\n",
        "def visualize_bfs_order(root, order):\n",
        "    dot = Graph()\n",
        "\n",
        "    # Create nodes with traversal order as labels\n",
        "    node_labels = {node.val: f'{node.val}' for node in order}\n",
        "    for i, node in enumerate(order):\n",
        "        node_labels[node.val] = f'{node.val} ({i+1})'\n",
        "\n",
        "    def add_edges_with_labels(dot, node):\n",
        "        if node:\n",
        "            dot.node(str(node.val), label=node_labels[node.val])\n",
        "            if node.left:\n",
        "                dot.edge(str(node.val), str(node.left.val))\n",
        "                add_edges_with_labels(dot, node.left)\n",
        "            if node.right:\n",
        "                dot.edge(str(node.val), str(node.right.val))\n",
        "                add_edges_with_labels(dot, node.right)\n",
        "\n",
        "    add_edges_with_labels(dot, root)\n",
        "    return dot\n",
        "\n",
        "def bfs(root):\n",
        "    if root is None:\n",
        "        return []\n",
        "\n",
        "    result = []\n",
        "    queue = deque([root])\n",
        "\n",
        "    while queue:\n",
        "        node = queue.popleft()\n",
        "        result.append(node.val)\n",
        "\n",
        "        if node.left:\n",
        "            queue.append(node.left)\n",
        "        if node.right:\n",
        "            queue.append(node.right)\n",
        "\n",
        "    return result\n",
        "\n",
        "if __name__ == '__main__':\n",
        "    # Create the root of the tree\n",
        "    root = TreeNode(1)\n",
        "    root.left = TreeNode(2)\n",
        "    root.right = TreeNode(3)\n",
        "    root.left.left = TreeNode(4)\n",
        "    root.left.right = TreeNode(5)\n",
        "    root.right.left = TreeNode(6)\n",
        "    root.right.right = TreeNode(7)\n",
        "\n",
        "    print(\"Original tree:\")\n",
        "    dot = visualize_tree(root)\n",
        "    dot.render('original_tree_bfs', format='png', view=True)\n",
        "\n",
        "    # Perform BFS\n",
        "    bfs_result = bfs(root)\n",
        "    print(\"BFS traversal result:\", bfs_result)\n",
        "\n"
      ],
      "metadata": {
        "colab": {
          "base_uri": "https://localhost:8080/"
        },
        "id": "-3Vpj5Ub4Rh9",
        "outputId": "c6cd1928-b063-4c57-ee81-28bb00fee1a5"
      },
      "execution_count": null,
      "outputs": [
        {
          "output_type": "stream",
          "name": "stdout",
          "text": [
            "Original tree:\n",
            "BFS traversal result: [1, 2, 3, 4, 5, 6, 7]\n"
          ]
        }
      ]
    },
    {
      "cell_type": "code",
      "source": [
        "def dfs_recursive(node):\n",
        "    if node is None:\n",
        "        return []\n",
        "\n",
        "    result = []\n",
        "    result.append(node.val)\n",
        "    result.extend(dfs_recursive(node.left))\n",
        "    result.extend(dfs_recursive(node.right))\n",
        "\n",
        "    return result\n"
      ],
      "metadata": {
        "id": "QUGqs4OY8A3_"
      },
      "execution_count": null,
      "outputs": []
    },
    {
      "cell_type": "code",
      "source": [
        "if __name__ == '__main__':\n",
        "    # Create the root of the tree\n",
        "    root = TreeNode(1)\n",
        "    root.left = TreeNode(2)\n",
        "    root.right = TreeNode(3)\n",
        "    root.left.left = TreeNode(4)\n",
        "    root.left.right = TreeNode(5)\n",
        "    root.right.left = TreeNode(6)\n",
        "    root.right.right = TreeNode(7)\n",
        "\n",
        "    # Perform DFS using recursion\n",
        "    dfs_recursive_result = dfs_recursive(root)\n",
        "    print(\"DFS (recursive) traversal result:\", dfs_recursive_result)"
      ],
      "metadata": {
        "colab": {
          "base_uri": "https://localhost:8080/"
        },
        "id": "IVvn0R418C_I",
        "outputId": "949baf84-e562-4054-8565-bc99f58247de"
      },
      "execution_count": null,
      "outputs": [
        {
          "output_type": "stream",
          "name": "stdout",
          "text": [
            "DFS (recursive) traversal result: [1, 2, 4, 5, 3, 6, 7]\n"
          ]
        }
      ]
    },
    {
      "cell_type": "code",
      "source": [
        "from collections import deque\n",
        "\n",
        "def delete_node(root, key):\n",
        "    if root is None:\n",
        "        return None\n",
        "\n",
        "    if root.left is None and root.right is None:\n",
        "        if root.val == key:\n",
        "            return None\n",
        "        else:\n",
        "            return root\n",
        "\n",
        "    key_node = None\n",
        "    queue = deque([root])\n",
        "\n",
        "    while queue:\n",
        "        node = queue.popleft()\n",
        "\n",
        "        if node.val == key:\n",
        "            key_node = node\n",
        "\n",
        "        if node.left:\n",
        "            queue.append(node.left)\n",
        "\n",
        "        if node.right:\n",
        "            queue.append(node.right)\n",
        "\n",
        "    if key_node:\n",
        "        deepest_node = node\n",
        "        key_node.val = deepest_node.val\n",
        "        delete_deepest(root, deepest_node)\n",
        "\n",
        "    return root\n",
        "\n",
        "def delete_deepest(root, d_node):\n",
        "    queue = deque([root])\n",
        "    while queue:\n",
        "        node = queue.popleft()\n",
        "\n",
        "        if node is d_node:\n",
        "            node = None\n",
        "            return\n",
        "\n",
        "        if node.right:\n",
        "            if node.right is d_node:\n",
        "                node.right = None\n",
        "                return\n",
        "            else:\n",
        "                queue.append(node.right)\n",
        "\n",
        "        if node.left:\n",
        "            if node.left is d_node:\n",
        "                node.left = None\n",
        "                return\n",
        "            else:\n",
        "                queue.append(node.left)\n"
      ],
      "metadata": {
        "id": "riN5M5KS1xNT"
      },
      "execution_count": null,
      "outputs": []
    },
    {
      "cell_type": "code",
      "source": [
        "if __name__ == '__main__':\n",
        "    # Create the root of the tree\n",
        "    root = TreeNode(1)\n",
        "    root.left = TreeNode(2)\n",
        "    root.right = TreeNode(3)\n",
        "    root.left.left = TreeNode(4)\n",
        "    root.left.right = TreeNode(5)\n",
        "    root.right.left = TreeNode(6)\n",
        "    root.right.right = TreeNode(7)\n",
        "\n",
        "    dot = visualize_tree(root)\n",
        "    dot.render('original_delete_tree', format='png', view=True)\n",
        "\n",
        "    key = 3\n",
        "    print(f\"\\nDeleting node with key {key}\")\n",
        "    root = delete_node(root, key)\n",
        "    dot = visualize_tree(root)\n",
        "    dot.render('after_delete_tree', format='png', view=True)\n",
        "\n",
        "\n"
      ],
      "metadata": {
        "colab": {
          "base_uri": "https://localhost:8080/"
        },
        "id": "fmqp_How7WEz",
        "outputId": "378d5fce-5564-4841-d1ab-9b2a0587fc6b"
      },
      "execution_count": null,
      "outputs": [
        {
          "output_type": "stream",
          "name": "stdout",
          "text": [
            "\n",
            "Deleting node with key 3\n"
          ]
        }
      ]
    },
    {
      "cell_type": "code",
      "source": [
        "class BST:\n",
        "    def __init__(self):\n",
        "        self.root = None\n",
        "\n",
        "    def insert(self, key):\n",
        "        if self.root is None:\n",
        "            self.root = TreeNode(key)\n",
        "        else:\n",
        "            self._insert(self.root, key)\n",
        "\n",
        "    def _insert(self, node, key):\n",
        "        if key < node.val:\n",
        "            if node.left is None:\n",
        "                node.left = TreeNode(key)\n",
        "            else:\n",
        "                self._insert(node.left, key)\n",
        "        else:\n",
        "            if node.right is None:\n",
        "                node.right = TreeNode(key)\n",
        "            else:\n",
        "                self._insert(node.right, key)\n",
        "\n",
        "    def search(self, key):\n",
        "        return self._search(self.root, key)\n",
        "\n",
        "    def _search(self, node, key):\n",
        "        if node is None or node.val == key:\n",
        "            return node\n",
        "\n",
        "        if key < node.val:\n",
        "            return self._search(node.left, key)\n",
        "\n",
        "        return self._search(node.right, key)\n",
        "\n"
      ],
      "metadata": {
        "id": "0DqRr1SaDuoX"
      },
      "execution_count": null,
      "outputs": []
    },
    {
      "cell_type": "code",
      "source": [
        "if __name__ == '__main__':\n",
        "    bst = BST()\n",
        "\n",
        "    # Insert elements\n",
        "    elements = [50, 30, 20, 40, 70, 60, 80]\n",
        "    for element in elements:\n",
        "        bst.insert(element)\n",
        "\n",
        "\n",
        "     # Visualize the BST\n",
        "    dot = visualize_tree(bst.root)\n",
        "    dot.render('bst', format='png', view=True)\n",
        "\n",
        "    # Search for elements\n",
        "    key = 40\n",
        "    result = bst.search(key)\n",
        "    if result:\n",
        "        print(f\"Element {key} found in the BST\")\n",
        "    else:\n",
        "        print(f\"Element {key} not found in the BST\")\n"
      ],
      "metadata": {
        "colab": {
          "base_uri": "https://localhost:8080/"
        },
        "id": "WBYBNBCWEDRQ",
        "outputId": "dc7b9ec3-c657-4a82-f7a3-c097e39904eb"
      },
      "execution_count": null,
      "outputs": [
        {
          "output_type": "stream",
          "name": "stdout",
          "text": [
            "Element 40 found in the BST\n"
          ]
        }
      ]
    },
    {
      "cell_type": "code",
      "source": [
        "algorithm lookup(tree, key):\n",
        "    if key = tree.key:\n",
        "        return true\n",
        "\n",
        "    if key < tree.key:\n",
        "        if not tree.hasLeftChild():\n",
        "            return false\n",
        "\n",
        "        return lookup(tree.leftChild(), key)\n",
        "\n",
        "    if key > tree.key:\n",
        "        if not tree.hasRightChild():\n",
        "            return false\n",
        "\n",
        "        return lookup(tree.rightChild(), key)"
      ],
      "metadata": {
        "id": "38Ip_9SXEhrP",
        "colab": {
          "base_uri": "https://localhost:8080/",
          "height": 131
        },
        "outputId": "1786143d-dea1-4192-ecb1-17fcd4785b19"
      },
      "execution_count": null,
      "outputs": [
        {
          "output_type": "error",
          "ename": "SyntaxError",
          "evalue": "invalid syntax (<ipython-input-1-568e431c8fda>, line 1)",
          "traceback": [
            "\u001b[0;36m  File \u001b[0;32m\"<ipython-input-1-568e431c8fda>\"\u001b[0;36m, line \u001b[0;32m1\u001b[0m\n\u001b[0;31m    algorithm lookup(tree, key):\u001b[0m\n\u001b[0m              ^\u001b[0m\n\u001b[0;31mSyntaxError\u001b[0m\u001b[0;31m:\u001b[0m invalid syntax\n"
          ]
        }
      ]
    }
  ]
}