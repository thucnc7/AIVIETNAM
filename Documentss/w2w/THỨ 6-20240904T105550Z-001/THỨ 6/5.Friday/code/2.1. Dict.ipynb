{
 "cells": [
  {
   "cell_type": "markdown",
   "metadata": {},
   "source": [
    "### Dicts"
   ]
  },
  {
   "cell_type": "markdown",
   "metadata": {},
   "source": [
    "##### Quick example"
   ]
  },
  {
   "cell_type": "markdown",
   "metadata": {},
   "source": [
    "Dictionary là một chuỗi các mục. Mỗi mục là một cặp được định nghĩa bằng chìa key và value.\n",
    "\n",
    "Dictionary không được sắp xếp. Bạn có thể truy cập vào danh sách các value hoặc key một cách độc lập."
   ]
  },
  {
   "cell_type": "code",
   "execution_count": 20,
   "metadata": {},
   "outputs": [
    {
     "name": "stdout",
     "output_type": "stream",
     "text": [
      "{('a', 1), ('c', 3), ('b', 2)}\n",
      "<class 'set'>\n"
     ]
    }
   ],
   "source": [
    "keys   = ['a', 'b', 'c']\n",
    "values = [1, 2, 3]\n",
    "\n",
    "a_dictionary = {(k,v) for (k,v) in zip(keys,values)}\n",
    "print(a_dictionary)\n",
    "print(type(a_dictionary))"
   ]
  },
  {
   "cell_type": "code",
   "execution_count": null,
   "metadata": {},
   "outputs": [],
   "source": []
  },
  {
   "cell_type": "code",
   "execution_count": 2,
   "metadata": {},
   "outputs": [
    {
     "name": "stdout",
     "output_type": "stream",
     "text": [
      "{'learning_rate': 0.1, 'optimizer': 'Adam', 'metric': 'Accuracy'}\n",
      "<class 'dict'>\n"
     ]
    }
   ],
   "source": [
    "parameters = {'learning_rate': 0.1,\n",
    "              'optimizer': 'Adam',\n",
    "              'metric': 'Accuracy'}\n",
    "\n",
    "print(parameters)\n",
    "print(type(parameters))"
   ]
  },
  {
   "cell_type": "code",
   "execution_count": 7,
   "metadata": {},
   "outputs": [
    {
     "name": "stdout",
     "output_type": "stream",
     "text": [
      "dict_keys(['learning_rate', 'optimizer', 'metric'])\n",
      "learning_rate\n",
      "optimizer\n",
      "metric\n"
     ]
    }
   ],
   "source": [
    "parameters = {'learning_rate': 0.1,\n",
    "              'optimizer': 'Adam',\n",
    "              'metric': 'Accuracy'}\n",
    "\n",
    "keys   = parameters.keys()\n",
    "print(keys)\n",
    "\n",
    "for key in keys:\n",
    "    print(key)"
   ]
  },
  {
   "cell_type": "code",
   "execution_count": 10,
   "metadata": {},
   "outputs": [
    {
     "name": "stdout",
     "output_type": "stream",
     "text": [
      "learning_rate\n",
      "optimizer\n",
      "metric\n"
     ]
    }
   ],
   "source": [
    "keys = parameters.keys()\n",
    "for key in keys:\n",
    "    print(key)"
   ]
  },
  {
   "cell_type": "code",
   "execution_count": 11,
   "metadata": {},
   "outputs": [
    {
     "name": "stdout",
     "output_type": "stream",
     "text": [
      "0.1\n",
      "Adam\n",
      "Accuracy\n"
     ]
    }
   ],
   "source": [
    "values = parameters.values()\n",
    "for value in values:\n",
    "    print(value)"
   ]
  },
  {
   "cell_type": "code",
   "execution_count": null,
   "metadata": {},
   "outputs": [],
   "source": []
  },
  {
   "cell_type": "code",
   "execution_count": null,
   "metadata": {},
   "outputs": [],
   "source": [
    "parameters = {'learning_rate': 0.1,\n",
    "              'optimizer': 'Adam',\n",
    "              'metric': 'Accuracy'}\n",
    "\n",
    "items = parameters.items()\n",
    "for key, value in items:\n",
    "    print(key, value)"
   ]
  },
  {
   "cell_type": "code",
   "execution_count": 14,
   "metadata": {},
   "outputs": [
    {
     "name": "stdout",
     "output_type": "stream",
     "text": [
      "learning_rate\n",
      "optimizer\n",
      "metric\n"
     ]
    }
   ],
   "source": [
    "parameters = {'learning_rate': 0.1,\n",
    "              'optimizer': 'Adam',\n",
    "              'metric': 'Accuracy'}\n",
    "\n",
    "for key in parameters:\n",
    "    print(key)"
   ]
  },
  {
   "cell_type": "code",
   "execution_count": null,
   "metadata": {},
   "outputs": [],
   "source": []
  },
  {
   "cell_type": "code",
   "execution_count": 17,
   "metadata": {},
   "outputs": [
    {
     "name": "stdout",
     "output_type": "stream",
     "text": [
      "0.1\n",
      "\n",
      "After using get() function\n",
      "{'learning_rate': 0.1, 'optimizer': 'Adam', 'metric': 'Accuracy'}\n"
     ]
    }
   ],
   "source": [
    "parameters = {'learning_rate': 0.1,\n",
    "              'optimizer': 'Adam',\n",
    "              'metric': 'Accuracy'}\n",
    "\n",
    "value = parameters.get('learning_rate')\n",
    "print(value)\n",
    "\n",
    "print('\\nAfter using get() function')\n",
    "print(parameters)"
   ]
  },
  {
   "cell_type": "code",
   "execution_count": 31,
   "metadata": {},
   "outputs": [],
   "source": []
  },
  {
   "cell_type": "code",
   "execution_count": 33,
   "metadata": {},
   "outputs": [
    {
     "name": "stdout",
     "output_type": "stream",
     "text": [
      "0.1\n",
      "\n",
      "After using pop() function\n",
      "{'optimizer': 'Adam', 'metric': 'Accuracy'}\n"
     ]
    }
   ],
   "source": [
    "parameters = {'learning_rate': 0.1,\n",
    "              'optimizer': 'Adam',\n",
    "              'metric': 'Accuracy'}\n",
    "\n",
    "value = parameters.pop('learning_rate')\n",
    "print(value)\n",
    "\n",
    "print('\\nAfter using pop() function')\n",
    "print(parameters)"
   ]
  },
  {
   "cell_type": "code",
   "execution_count": 36,
   "metadata": {},
   "outputs": [
    {
     "name": "stdout",
     "output_type": "stream",
     "text": [
      "None\n"
     ]
    }
   ],
   "source": [
    "parameters = {'learning_rate': 0.1,\n",
    "              'optimizer': 'Adam',\n",
    "              'metric': 'Accuracy'}\n",
    "\n",
    "value = parameters.get('algorithm')\n",
    "print(value)"
   ]
  },
  {
   "cell_type": "code",
   "execution_count": 35,
   "metadata": {},
   "outputs": [
    {
     "ename": "KeyError",
     "evalue": "'algorithm'",
     "output_type": "error",
     "traceback": [
      "\u001b[1;31m---------------------------------------------------------------------------\u001b[0m",
      "\u001b[1;31mKeyError\u001b[0m                                  Traceback (most recent call last)",
      "\u001b[1;32m<ipython-input-35-8310550c04f4>\u001b[0m in \u001b[0;36m<module>\u001b[1;34m\u001b[0m\n\u001b[0;32m      3\u001b[0m               'metric': 'Accuracy'}\n\u001b[0;32m      4\u001b[0m \u001b[1;33m\u001b[0m\u001b[0m\n\u001b[1;32m----> 5\u001b[1;33m \u001b[0mvalue\u001b[0m \u001b[1;33m=\u001b[0m \u001b[0mparameters\u001b[0m\u001b[1;33m.\u001b[0m\u001b[0mpop\u001b[0m\u001b[1;33m(\u001b[0m\u001b[1;34m'algorithm'\u001b[0m\u001b[1;33m)\u001b[0m\u001b[1;33m\u001b[0m\u001b[1;33m\u001b[0m\u001b[0m\n\u001b[0m",
      "\u001b[1;31mKeyError\u001b[0m: 'algorithm'"
     ]
    }
   ],
   "source": [
    "parameters = {'learning_rate': 0.1,\n",
    "              'optimizer': 'Adam',\n",
    "              'metric': 'Accuracy'}\n",
    "\n",
    "value = parameters.pop('algorithm')"
   ]
  },
  {
   "cell_type": "code",
   "execution_count": null,
   "metadata": {},
   "outputs": [],
   "source": []
  },
  {
   "cell_type": "code",
   "execution_count": 22,
   "metadata": {},
   "outputs": [
    {
     "name": "stdout",
     "output_type": "stream",
     "text": [
      "('metric', 'Accuracy')\n",
      "{'learning_rate': 0.1, 'optimizer': 'Adam'}\n"
     ]
    }
   ],
   "source": [
    "parameters = {'learning_rate': 0.1,\n",
    "              'optimizer': 'Adam',\n",
    "              'metric': 'Accuracy'}\n",
    "\n",
    "item = parameters.popitem()\n",
    "\n",
    "print(item)\n",
    "print(parameters)"
   ]
  },
  {
   "cell_type": "code",
   "execution_count": 26,
   "metadata": {},
   "outputs": [
    {
     "name": "stdout",
     "output_type": "stream",
     "text": [
      "Before using clear() function\n",
      "{'learning_rate': 0.1, 'metric': 'Accuracy'}\n",
      "\n",
      "After using clear() function\n",
      "{}\n"
     ]
    }
   ],
   "source": [
    "parameters = {'learning_rate': 0.1,\n",
    "              'metric': 'Accuracy'}\n",
    "\n",
    "print('Before using clear() function')\n",
    "print(parameters)\n",
    "\n",
    "parameters.clear()\n",
    "\n",
    "print('\\nAfter using clear() function')\n",
    "print(parameters)"
   ]
  },
  {
   "cell_type": "code",
   "execution_count": 29,
   "metadata": {},
   "outputs": [
    {
     "ename": "KeyError",
     "evalue": "'algorithm'",
     "output_type": "error",
     "traceback": [
      "\u001b[1;31m---------------------------------------------------------------------------\u001b[0m",
      "\u001b[1;31mKeyError\u001b[0m                                  Traceback (most recent call last)",
      "\u001b[1;32m<ipython-input-29-e759e1753a28>\u001b[0m in \u001b[0;36m<module>\u001b[1;34m\u001b[0m\n\u001b[0;32m      2\u001b[0m               'metric': 'Accuracy'}\n\u001b[0;32m      3\u001b[0m \u001b[1;33m\u001b[0m\u001b[0m\n\u001b[1;32m----> 4\u001b[1;33m \u001b[1;32mdel\u001b[0m \u001b[0mparameters\u001b[0m\u001b[1;33m[\u001b[0m\u001b[1;34m'algorithm'\u001b[0m\u001b[1;33m]\u001b[0m\u001b[1;33m\u001b[0m\u001b[1;33m\u001b[0m\u001b[0m\n\u001b[0m",
      "\u001b[1;31mKeyError\u001b[0m: 'algorithm'"
     ]
    }
   ],
   "source": [
    "parameters = {'learning_rate': 0.1,\n",
    "              'metric': 'Accuracy'}\n",
    "\n",
    "del parameters['algorithm']"
   ]
  },
  {
   "cell_type": "code",
   "execution_count": null,
   "metadata": {},
   "outputs": [],
   "source": []
  },
  {
   "cell_type": "code",
   "execution_count": 39,
   "metadata": {},
   "outputs": [
    {
     "name": "stdout",
     "output_type": "stream",
     "text": [
      "{'learning_rate': 0.1, 'metric': 'Accuracy'}\n",
      "{'learning_rate': 0.2, 'metric': 'Accuracy'}\n"
     ]
    }
   ],
   "source": [
    "parameters = {'learning_rate': 0.1,\n",
    "              'metric': 'Accuracy'}\n",
    "\n",
    "a_copy = parameters.copy()\n",
    "a_copy['learning_rate'] = 0.2\n",
    "\n",
    "print(parameters)\n",
    "print(a_copy)"
   ]
  },
  {
   "cell_type": "code",
   "execution_count": null,
   "metadata": {},
   "outputs": [],
   "source": []
  },
  {
   "cell_type": "code",
   "execution_count": 38,
   "metadata": {},
   "outputs": [
    {
     "name": "stdout",
     "output_type": "stream",
     "text": [
      "{'learning_rate': 0.2, 'metric': 'Accuracy'}\n"
     ]
    }
   ],
   "source": [
    "parameters = {'learning_rate': 0.1,\n",
    "              'metric': 'Accuracy'}\n",
    "\n",
    "parameters['learning_rate'] = 0.2\n",
    "print(parameters)"
   ]
  },
  {
   "cell_type": "code",
   "execution_count": null,
   "metadata": {},
   "outputs": [],
   "source": []
  },
  {
   "cell_type": "code",
   "execution_count": null,
   "metadata": {},
   "outputs": [],
   "source": []
  },
  {
   "cell_type": "code",
   "execution_count": null,
   "metadata": {},
   "outputs": [],
   "source": []
  },
  {
   "cell_type": "code",
   "execution_count": null,
   "metadata": {},
   "outputs": [],
   "source": [
    "\n",
    "\n",
    "for key in parameters:\n",
    "    print(key, parameters.get(key))"
   ]
  },
  {
   "cell_type": "code",
   "execution_count": null,
   "metadata": {},
   "outputs": [],
   "source": []
  },
  {
   "cell_type": "code",
   "execution_count": 3,
   "metadata": {},
   "outputs": [
    {
     "name": "stdout",
     "output_type": "stream",
     "text": [
      "dict_keys(['first', 'second'])\n",
      "dict_values(['string value', [1, 2]])\n"
     ]
    }
   ],
   "source": [
    "d = {'first':'string value', 'second':[1,2]}\n",
    "keys = d.keys()\n",
    "values = d.values()\n",
    "\n",
    "print(keys)\n",
    "print(values)"
   ]
  },
  {
   "cell_type": "code",
   "execution_count": 1,
   "metadata": {},
   "outputs": [
    {
     "data": {
      "text/plain": [
       "dict_values(['string value', [1, 2]])"
      ]
     },
     "execution_count": 1,
     "metadata": {},
     "output_type": "execute_result"
    }
   ],
   "source": [
    "d = {'first':'string value', 'second':[1,2]}\n",
    "d.values()"
   ]
  },
  {
   "cell_type": "markdown",
   "metadata": {},
   "source": [
    "Bạn có thể truy cập vào giá trị của một khóa đã cho như sau"
   ]
  },
  {
   "cell_type": "code",
   "execution_count": 4,
   "metadata": {},
   "outputs": [
    {
     "name": "stdout",
     "output_type": "stream",
     "text": [
      "string value\n",
      "[1, 2]\n"
     ]
    }
   ],
   "source": [
    "d = {'first':'string value', 'second':[1,2]}\n",
    "print(d['first'])\n",
    "print(d['second'])"
   ]
  },
  {
   "cell_type": "markdown",
   "metadata": {},
   "source": [
    "#### Phương pháp truy vấn thông tin"
   ]
  },
  {
   "cell_type": "markdown",
   "metadata": {},
   "source": [
    "Ngoài các phương thức key và value, còn có phương thức trả về danh sách các mục có dạng (key, value). \n",
    "Những phương thức khác không return theo bất kỳ thứ tự cụ thể nào:"
   ]
  },
  {
   "cell_type": "code",
   "execution_count": 15,
   "metadata": {},
   "outputs": [
    {
     "name": "stdout",
     "output_type": "stream",
     "text": [
      "items: dict_items([('first', 'string value'), ('second', [1, 2])])\n",
      "first string value\n",
      "second [1, 2]\n"
     ]
    }
   ],
   "source": [
    "d = {'first':'string value', 'second':[1,2]}\n",
    "items = d.items()\n",
    "\n",
    "print('items:', items)\n",
    "for k,v in items:\n",
    "    print(k, v)"
   ]
  },
  {
   "cell_type": "code",
   "execution_count": 21,
   "metadata": {},
   "outputs": [
    {
     "ename": "AttributeError",
     "evalue": "'dict' object has no attribute '_contain_'",
     "output_type": "error",
     "traceback": [
      "\u001b[0;31m---------------------------------------------------------------------------\u001b[0m",
      "\u001b[0;31mAttributeError\u001b[0m                            Traceback (most recent call last)",
      "\u001b[0;32m<ipython-input-21-6b898b100e88>\u001b[0m in \u001b[0;36m<module>\u001b[0;34m\u001b[0m\n\u001b[1;32m      1\u001b[0m \u001b[0md\u001b[0m \u001b[0;34m=\u001b[0m \u001b[0;34m{\u001b[0m\u001b[0;34m'first'\u001b[0m\u001b[0;34m:\u001b[0m\u001b[0;34m'string value'\u001b[0m\u001b[0;34m,\u001b[0m \u001b[0;34m'second'\u001b[0m\u001b[0;34m:\u001b[0m\u001b[0;34m[\u001b[0m\u001b[0;36m1\u001b[0m\u001b[0;34m,\u001b[0m\u001b[0;36m2\u001b[0m\u001b[0;34m]\u001b[0m\u001b[0;34m}\u001b[0m\u001b[0;34m\u001b[0m\u001b[0;34m\u001b[0m\u001b[0m\n\u001b[0;32m----> 2\u001b[0;31m \u001b[0md\u001b[0m\u001b[0;34m.\u001b[0m\u001b[0m_contain_\u001b[0m\u001b[0;34m(\u001b[0m\u001b[0;34m'first'\u001b[0m\u001b[0;34m)\u001b[0m\u001b[0;34m\u001b[0m\u001b[0;34m\u001b[0m\u001b[0m\n\u001b[0m",
      "\u001b[0;31mAttributeError\u001b[0m: 'dict' object has no attribute '_contain_'"
     ]
    }
   ],
   "source": [
    "d = {'first':'string value', 'second':[1,2]}\n",
    "d._contain_('first')"
   ]
  },
  {
   "cell_type": "markdown",
   "metadata": {},
   "source": [
    "Phương thức iteritems hoạt động theo cách tương tự, nhưng trả về một trình vòng lặp thay vì danh sách.\n",
    "Để hiểu thêm các bạn xem phần ví dụ:\n",
    "\n",
    "Bạn có thể kiểm tra sự tồn tại của một khóa cụ thể bằng has_key:"
   ]
  },
  {
   "cell_type": "markdown",
   "metadata": {},
   "source": [
    "d.has_key('first')"
   ]
  },
  {
   "cell_type": "markdown",
   "metadata": {},
   "source": [
    "Biểu thức d.has_key (k) tương đương với k trong d. Để nhận được giá trị tương ứng với một khóa cụ thể, hãy sử dụng get hoặc pop:"
   ]
  },
  {
   "cell_type": "code",
   "execution_count": 23,
   "metadata": {},
   "outputs": [
    {
     "name": "stdout",
     "output_type": "stream",
     "text": [
      "string value\n",
      "{'first': 'string value', 'second': [1, 2]}\n"
     ]
    }
   ],
   "source": [
    "d = {'first':'string value', 'second':[1,2]}\n",
    "value = d.get('first')\n",
    "\n",
    "print(value)\n",
    "print(d)"
   ]
  },
  {
   "cell_type": "markdown",
   "metadata": {},
   "source": [
    "Rất hữu ích cho những việc như thêm số:"
   ]
  },
  {
   "cell_type": "markdown",
   "metadata": {},
   "source": [
    "sum[value] = sum.get(value, 0) + 1"
   ]
  },
  {
   "cell_type": "markdown",
   "metadata": {},
   "source": [
    "Sự khác biệt giữa get và pop là pop cũng loại bỏ mục tương ứng trong từ điển:"
   ]
  },
  {
   "cell_type": "code",
   "execution_count": 25,
   "metadata": {},
   "outputs": [
    {
     "name": "stdout",
     "output_type": "stream",
     "text": [
      "string value\n",
      "{'second': [1, 2]}\n"
     ]
    }
   ],
   "source": [
    "d = {'first':'string value', 'second':[1,2]}\n",
    "value = d.pop('first')\n",
    "\n",
    "print(value)\n",
    "print(d)"
   ]
  },
  {
   "cell_type": "code",
   "execution_count": 5,
   "metadata": {},
   "outputs": [
    {
     "name": "stdout",
     "output_type": "stream",
     "text": [
      "{'second': [1, 2]}\n"
     ]
    }
   ],
   "source": [
    "print(d)"
   ]
  },
  {
   "cell_type": "markdown",
   "metadata": {},
   "source": [
    "Cuối cùng, popitem loại bỏ và trả về một cặp (key, vule); \n",
    "bạn không chọn cái nào vì từ điển không được sắp xếp"
   ]
  },
  {
   "cell_type": "code",
   "execution_count": 28,
   "metadata": {},
   "outputs": [
    {
     "name": "stdout",
     "output_type": "stream",
     "text": [
      "('4', 'value4')\n",
      "{'1': 'value1', '2': 'value2', '3': 'value3'}\n"
     ]
    }
   ],
   "source": [
    "d = {'1':'value1', '2':'value2', '3':'value3', '4':'value4'}\n",
    "item = d.popitem()\n",
    "\n",
    "print(item)\n",
    "print(d)"
   ]
  },
  {
   "cell_type": "code",
   "execution_count": 24,
   "metadata": {},
   "outputs": [
    {
     "data": {
      "text/plain": [
       "{}"
      ]
     },
     "execution_count": 24,
     "metadata": {},
     "output_type": "execute_result"
    }
   ],
   "source": [
    "d #kiểm tra các phần tử trong d"
   ]
  },
  {
   "cell_type": "markdown",
   "metadata": {},
   "source": [
    "####  Methods to create new dictionary"
   ]
  },
  {
   "cell_type": "markdown",
   "metadata": {},
   "source": [
    "Vì dictionary (giống như các chuỗi khác) là các đối tượng, bạn nên cẩn thận khi sử dụng dấu hiệu ảnh hưởng:"
   ]
  },
  {
   "cell_type": "code",
   "execution_count": 26,
   "metadata": {},
   "outputs": [
    {
     "ename": "SyntaxError",
     "evalue": "EOL while scanning string literal (<ipython-input-26-636f4351c78a>, line 4)",
     "output_type": "error",
     "traceback": [
      "\u001b[1;36m  File \u001b[1;32m\"<ipython-input-26-636f4351c78a>\"\u001b[1;36m, line \u001b[1;32m4\u001b[0m\n\u001b[1;33m    d1['a]\u001b[0m\n\u001b[1;37m          ^\u001b[0m\n\u001b[1;31mSyntaxError\u001b[0m\u001b[1;31m:\u001b[0m EOL while scanning string literal\n"
     ]
    }
   ],
   "source": [
    "d1 = {'a': [1,2]}\n",
    "d2 = d1\n",
    "d2['a'] = [1,2,3,4]\n",
    "d1['a]"
   ]
  },
  {
   "cell_type": "markdown",
   "metadata": {},
   "source": [
    "Để tạo một đối tượng mới, sử dụng phương thức sao chép (shallow copy):"
   ]
  },
  {
   "cell_type": "code",
   "execution_count": 30,
   "metadata": {},
   "outputs": [
    {
     "name": "stdout",
     "output_type": "stream",
     "text": [
      "d1: {'a': [1, 2]}\n",
      "d2: {'a': [1, 2]}\n"
     ]
    }
   ],
   "source": [
    "d1 = {'a': [1,2]}\n",
    "d2 = d1.copy()\n",
    "\n",
    "print('d1:', d1)\n",
    "print('d2:', d2)"
   ]
  },
  {
   "cell_type": "code",
   "execution_count": 1,
   "metadata": {},
   "outputs": [
    {
     "name": "stdout",
     "output_type": "stream",
     "text": [
      "d1: {'a': [3, 4], 'b': 5}\n",
      "d2: {'a': [3, 4], 'b': 5}\n"
     ]
    }
   ],
   "source": [
    "d1 = {'a': [1,2], 'b': 5}\n",
    "d2 = d1.copy()\n",
    "\n",
    "# thay đổi giá trị d2 sẽ ảnh hưởng đến d1\n",
    "d2['a'][0] = 3\n",
    "d2['a'][1] = 4\n",
    "\n",
    "print('d1:', d1)\n",
    "print('d2:', d2)"
   ]
  },
  {
   "cell_type": "code",
   "execution_count": 42,
   "metadata": {},
   "outputs": [
    {
     "name": "stdout",
     "output_type": "stream",
     "text": [
      "d1: {'a': [1, 2], 'b': 5}\n",
      "d2: {'a': [3, 4], 'b': 5}\n"
     ]
    }
   ],
   "source": [
    "import copy\n",
    "\n",
    "d1 = {'a': [1,2], 'b': 5}\n",
    "d2 = copy.deepcopy(d1)\n",
    "\n",
    "# thay đổi giá trị d2 \n",
    "d2['a'][0] = 3\n",
    "d2['a'][1] = 4\n",
    "\n",
    "print('d1:', d1)\n",
    "print('d2:', d2)"
   ]
  },
  {
   "cell_type": "markdown",
   "metadata": {},
   "source": [
    "Bạn có thể xóa một từ điển (nghĩa là xóa tất cả các mục của nó) bằng phương thức clear ():"
   ]
  },
  {
   "cell_type": "code",
   "execution_count": 43,
   "metadata": {},
   "outputs": [
    {
     "name": "stdout",
     "output_type": "stream",
     "text": [
      "{'a': [1, 2], 'b': 5}\n",
      "{}\n"
     ]
    }
   ],
   "source": [
    "d = {'a': [1,2], 'b': 5}\n",
    "print(d)\n",
    "\n",
    "d.clear()\n",
    "print(d)"
   ]
  },
  {
   "cell_type": "code",
   "execution_count": 44,
   "metadata": {},
   "outputs": [
    {
     "name": "stdout",
     "output_type": "stream",
     "text": [
      "{'a': [1, 2], 'b': 5}\n",
      "{'b': 5}\n"
     ]
    }
   ],
   "source": [
    "d = {'a': [1,2], 'b': 5}\n",
    "print(d)\n",
    "\n",
    "del d['a']\n",
    "print(d)"
   ]
  },
  {
   "cell_type": "code",
   "execution_count": 45,
   "metadata": {},
   "outputs": [
    {
     "name": "stdout",
     "output_type": "stream",
     "text": [
      "{'a': [1, 2], 'b': 5}\n"
     ]
    },
    {
     "ename": "NameError",
     "evalue": "name 'd' is not defined",
     "output_type": "error",
     "traceback": [
      "\u001b[0;31m---------------------------------------------------------------------------\u001b[0m",
      "\u001b[0;31mNameError\u001b[0m                                 Traceback (most recent call last)",
      "\u001b[0;32m<ipython-input-45-75b31475aad4>\u001b[0m in \u001b[0;36m<module>\u001b[0;34m\u001b[0m\n\u001b[1;32m      3\u001b[0m \u001b[0;34m\u001b[0m\u001b[0m\n\u001b[1;32m      4\u001b[0m \u001b[0;32mdel\u001b[0m \u001b[0md\u001b[0m\u001b[0;34m\u001b[0m\u001b[0;34m\u001b[0m\u001b[0m\n\u001b[0;32m----> 5\u001b[0;31m \u001b[0mprint\u001b[0m\u001b[0;34m(\u001b[0m\u001b[0md\u001b[0m\u001b[0;34m)\u001b[0m\u001b[0;34m\u001b[0m\u001b[0;34m\u001b[0m\u001b[0m\n\u001b[0m",
      "\u001b[0;31mNameError\u001b[0m: name 'd' is not defined"
     ]
    }
   ],
   "source": [
    "d = {'a': [1,2], 'b': 5}\n",
    "print(d)\n",
    "\n",
    "del d\n",
    "print(d)"
   ]
  },
  {
   "cell_type": "markdown",
   "metadata": {},
   "source": [
    "Phương thức clear () xóa tất cả các mục trong khi del () xóa chỉ một:"
   ]
  },
  {
   "cell_type": "code",
   "execution_count": 11,
   "metadata": {},
   "outputs": [
    {
     "name": "stdout",
     "output_type": "stream",
     "text": [
      "{'b': 2, 'c': 3}\n"
     ]
    }
   ],
   "source": [
    "d = {'a':1, 'b':2, 'c':3}\n",
    "del d['a']\n",
    "print(d)"
   ]
  },
  {
   "cell_type": "markdown",
   "metadata": {},
   "source": [
    "Tạo một mục mới với giá trị mặc định (nếu không được cung cấp, Không có gì là mặc định):"
   ]
  },
  {
   "cell_type": "code",
   "execution_count": 13,
   "metadata": {},
   "outputs": [
    {
     "name": "stdout",
     "output_type": "stream",
     "text": [
      "{'a': [1, 2], 'third': ''}\n"
     ]
    }
   ],
   "source": [
    "d1 = {'a': [1,2]}\n",
    "d2 = d1.copy()\n",
    "d2.setdefault('third', '')\n",
    "d2['third']\n",
    "print(d2)"
   ]
  },
  {
   "cell_type": "code",
   "execution_count": null,
   "metadata": {},
   "outputs": [],
   "source": [
    "d = {'a':1, 'b':2, 'c':3}\n",
    "\n",
    "d2.setdefault('third', '')"
   ]
  },
  {
   "cell_type": "markdown",
   "metadata": {},
   "source": [
    "Tạo một từ điển cho một bộ khóa (key):"
   ]
  },
  {
   "cell_type": "code",
   "execution_count": 14,
   "metadata": {},
   "outputs": [
    {
     "data": {
      "text/plain": [
       "{'first': None, 'second': None}"
      ]
     },
     "execution_count": 14,
     "metadata": {},
     "output_type": "execute_result"
    }
   ],
   "source": [
    "d1 = {'a': [1,2]}\n",
    "d2 = d1.copy()\n",
    "d2.fromkeys(['first', 'second'])"
   ]
  },
  {
   "cell_type": "markdown",
   "metadata": {},
   "source": [
    "Một cú pháp khác là bắt đầu từ một từ điển trống:"
   ]
  },
  {
   "cell_type": "code",
   "execution_count": 37,
   "metadata": {},
   "outputs": [
    {
     "data": {
      "text/plain": [
       "{'first': None, 'second': None}"
      ]
     },
     "execution_count": 37,
     "metadata": {},
     "output_type": "execute_result"
    }
   ],
   "source": [
    "{}.fromkeys(['first', 'second'])"
   ]
  },
  {
   "cell_type": "markdown",
   "metadata": {},
   "source": [
    "Chỉ cần lưu ý rằng phương thức fromkeys () tạo ra một từ điển mới với các khóa đã cho,\n",
    "mỗi khóa có giá trị tương ứng mặc định là Không có."
   ]
  },
  {
   "cell_type": "markdown",
   "metadata": {},
   "source": [
    "####  Combining dictionaries"
   ]
  },
  {
   "cell_type": "markdown",
   "metadata": {},
   "source": [
    "Cho 2 từ điển d1 và d2, bạn có thể thêm tất cả các cặp key/ value từ d2 vào d1 bằng cách sử dụng phương thức cập nhật (thay vì lặp và tự gán từng cặp:"
   ]
  },
  {
   "cell_type": "code",
   "execution_count": 40,
   "metadata": {},
   "outputs": [
    {
     "ename": "SyntaxError",
     "evalue": "invalid syntax (<ipython-input-40-ae396d67bdb5>, line 2)",
     "output_type": "error",
     "traceback": [
      "\u001b[1;36m  File \u001b[1;32m\"<ipython-input-40-ae396d67bdb5>\"\u001b[1;36m, line \u001b[1;32m2\u001b[0m\n\u001b[1;33m    d2 = {'a':2; 'b':2}\u001b[0m\n\u001b[1;37m               ^\u001b[0m\n\u001b[1;31mSyntaxError\u001b[0m\u001b[1;31m:\u001b[0m invalid syntax\n"
     ]
    }
   ],
   "source": [
    "\n",
    "d1 = {'a':1}\n",
    "d2 = {'a':2; 'b':2}\n",
    "d1.update(d2)\n",
    "d1['a']\n",
    "d2['b']"
   ]
  },
  {
   "cell_type": "code",
   "execution_count": 49,
   "metadata": {},
   "outputs": [
    {
     "name": "stdout",
     "output_type": "stream",
     "text": [
      "d1: {'a': 1}\n",
      "d2: {'b': 2, 'c': 3}\n",
      "d1 sau khi update: {'a': 1, 'b': 2, 'c': 3}\n"
     ]
    }
   ],
   "source": [
    "d1 = {'a':1}\n",
    "d2 = {'b':2, 'c':3}\n",
    "\n",
    "print('d1:', d1)\n",
    "print('d2:', d2)\n",
    "\n",
    "d1.update(d2)\n",
    "print('d1 sau khi update:', d1)"
   ]
  },
  {
   "cell_type": "markdown",
   "metadata": {},
   "source": [
    "Các mục trong từ điển được cung cấp được thêm vào từ cũ, ghi đè bất kỳ mục nào có cùng khóa"
   ]
  },
  {
   "cell_type": "markdown",
   "metadata": {},
   "source": [
    "####  iterators"
   ]
  },
  {
   "cell_type": "markdown",
   "metadata": {},
   "source": [
    "Từ điển cung cấp các trình vòng lặp trên các giá trị, khóa hoặc các mục:"
   ]
  },
  {
   "cell_type": "code",
   "execution_count": 44,
   "metadata": {},
   "outputs": [
    {
     "ename": "NameError",
     "evalue": "name 't' is not defined",
     "output_type": "error",
     "traceback": [
      "\u001b[1;31m---------------------------------------------------------------------------\u001b[0m",
      "\u001b[1;31mNameError\u001b[0m                                 Traceback (most recent call last)",
      "\u001b[1;32m<ipython-input-44-6f53b07bb2ed>\u001b[0m in \u001b[0;36m<module>\u001b[1;34m\u001b[0m\n\u001b[1;32m----> 1\u001b[1;33m \u001b[1;33m[\u001b[0m\u001b[0mx\u001b[0m \u001b[1;32mfor\u001b[0m \u001b[0mx\u001b[0m \u001b[1;32min\u001b[0m \u001b[0mt\u001b[0m\u001b[1;33m.\u001b[0m\u001b[0mitervalues\u001b[0m\u001b[1;33m(\u001b[0m\u001b[1;33m)\u001b[0m\u001b[1;33m]\u001b[0m\u001b[1;33m\u001b[0m\u001b[0m\n\u001b[0m\u001b[0;32m      2\u001b[0m \u001b[1;33m[\u001b[0m\u001b[0mx\u001b[0m \u001b[1;32mfor\u001b[0m \u001b[0mx\u001b[0m \u001b[1;32min\u001b[0m \u001b[0mt\u001b[0m\u001b[1;33m.\u001b[0m\u001b[0miterkeys\u001b[0m\u001b[1;33m(\u001b[0m\u001b[1;33m)\u001b[0m\u001b[1;33m]\u001b[0m\u001b[1;33m\u001b[0m\u001b[0m\n\u001b[0;32m      3\u001b[0m \u001b[1;33m[\u001b[0m\u001b[0mx\u001b[0m \u001b[1;32mfor\u001b[0m \u001b[0mx\u001b[0m \u001b[1;32min\u001b[0m \u001b[0mt\u001b[0m\u001b[1;33m.\u001b[0m\u001b[0miteritems\u001b[0m\u001b[1;33m(\u001b[0m\u001b[1;33m)\u001b[0m\u001b[1;33m]\u001b[0m\u001b[1;33m\u001b[0m\u001b[0m\n",
      "\u001b[1;31mNameError\u001b[0m: name 't' is not defined"
     ]
    }
   ],
   "source": [
    "[x for x in t.itervalues()]\n",
    "[x for x in t.iterkeys()]\n",
    "[x for x in t.iteritems()]\n"
   ]
  },
  {
   "cell_type": "code",
   "execution_count": 54,
   "metadata": {},
   "outputs": [
    {
     "name": "stdout",
     "output_type": "stream",
     "text": [
      "{('b', 2), ('c', 3), ('d', 4), ('e', 5), ('a', 1)}\n"
     ]
    }
   ],
   "source": [
    "l_keys   = ['a', 'b', 'c', 'd', 'e']\n",
    "l_values = [1, 2, 3, 4, 5]\n",
    "\n",
    "d = {(k,v) for (k,v) in zip(l_keys,l_values)}\n",
    "print(d)"
   ]
  },
  {
   "cell_type": "markdown",
   "metadata": {},
   "source": [
    "#### Views"
   ]
  },
  {
   "cell_type": "markdown",
   "metadata": {},
   "source": [
    "viewkey, viewvalues, viewitems là các đối tượng giống như tập hợp cung cấp chế độ xem trên các key, value của D."
   ]
  },
  {
   "cell_type": "markdown",
   "metadata": {},
   "source": [
    "#### comparison"
   ]
  },
  {
   "cell_type": "markdown",
   "metadata": {},
   "source": [
    "Bạn có thể so sánh Dictionary! Trước tiên Python so sánh các cặp khóa-giá trị được sắp xếp. \n",
    "Đầu tiên, sắp xếp từ điển theo khóa và hoàn thành các mục ban đầu của chúng.\n",
    "Nếu các mục mang các giá trị khác nhau, Python chỉ ra sự so sánh giữa chúng.\n",
    "Mặt khác, các mục thứ hai được so sánh."
   ]
  },
  {
   "cell_type": "code",
   "execution_count": null,
   "metadata": {},
   "outputs": [],
   "source": []
  },
  {
   "cell_type": "code",
   "execution_count": 2,
   "metadata": {},
   "outputs": [
    {
     "name": "stdout",
     "output_type": "stream",
     "text": [
      "{'0': 0, '1': 1, '2': 2, '3': 3, '4': 4}\n"
     ]
    }
   ],
   "source": [
    "# dic comprehension\n",
    "\n",
    "aDict = {str(i):i for i in range(5)}\n",
    "print(aDict)"
   ]
  },
  {
   "cell_type": "code",
   "execution_count": 5,
   "metadata": {},
   "outputs": [
    {
     "name": "stdout",
     "output_type": "stream",
     "text": [
      "<class 'dict'>\n",
      "{1: 4, 2: 5, 3: 6}\n"
     ]
    }
   ],
   "source": [
    "# from zip\n",
    "\n",
    "tuple1 = (1, 2, 3)\n",
    "tuple2 = (4, 5, 6)\n",
    "\n",
    "a_dict = dict(zip(tuple1, tuple2))\n",
    "print(type(a_dict))\n",
    "print(a_dict)"
   ]
  },
  {
   "cell_type": "code",
   "execution_count": 6,
   "metadata": {},
   "outputs": [
    {
     "name": "stdout",
     "output_type": "stream",
     "text": [
      "<class 'dict'>\n",
      "{1: 4, 2: 5, 3: 6}\n"
     ]
    }
   ],
   "source": [
    "# from zip\n",
    "\n",
    "set1 = {1, 2, 3}\n",
    "set2 = {4, 5, 6}\n",
    "\n",
    "a_dict = dict(zip(set1, set2))\n",
    "print(type(a_dict))\n",
    "print(a_dict)"
   ]
  },
  {
   "cell_type": "code",
   "execution_count": 7,
   "metadata": {},
   "outputs": [
    {
     "name": "stdout",
     "output_type": "stream",
     "text": [
      "<class 'dict'>\n",
      "{1: 4, 2: 5, 3: 6}\n"
     ]
    }
   ],
   "source": [
    "# from zip\n",
    "\n",
    "list1 = [1, 2, 3]\n",
    "list2 = [4, 5, 6]\n",
    "\n",
    "a_dict = dict(zip(list1, list2))\n",
    "print(type(a_dict))\n",
    "print(a_dict)"
   ]
  },
  {
   "cell_type": "code",
   "execution_count": null,
   "metadata": {},
   "outputs": [],
   "source": []
  },
  {
   "cell_type": "code",
   "execution_count": 8,
   "metadata": {},
   "outputs": [
    {
     "name": "stdout",
     "output_type": "stream",
     "text": [
      "{'banana': 2, 'apple': 0}\n"
     ]
    }
   ],
   "source": [
    "# setdefault()\n",
    "\n",
    "fruits = {'banana': 2}\n",
    "fruits.setdefault('apple', 0)\n",
    "\n",
    "print(fruits)"
   ]
  },
  {
   "cell_type": "code",
   "execution_count": 9,
   "metadata": {},
   "outputs": [
    {
     "name": "stdout",
     "output_type": "stream",
     "text": [
      "{'banana': 2, 'apple': 4}\n"
     ]
    }
   ],
   "source": [
    "# setdefault()\n",
    "\n",
    "fruits = {'banana': 2, 'apple': 4}\n",
    "fruits.setdefault('apple', 0)\n",
    "\n",
    "print(fruits)"
   ]
  },
  {
   "cell_type": "code",
   "execution_count": 13,
   "metadata": {},
   "outputs": [
    {
     "name": "stdout",
     "output_type": "stream",
     "text": [
      "{'banana': 2, 'apple': 10}\n"
     ]
    }
   ],
   "source": [
    "# setdefault()\n",
    "\n",
    "fruits = {'banana': 2}\n",
    "fruits.setdefault('apple', 0)\n",
    "\n",
    "fruits['apple'] += 10\n",
    "print(fruits)"
   ]
  },
  {
   "cell_type": "code",
   "execution_count": 14,
   "metadata": {},
   "outputs": [
    {
     "ename": "KeyError",
     "evalue": "'apple'",
     "output_type": "error",
     "traceback": [
      "\u001b[1;31m---------------------------------------------------------------------------\u001b[0m",
      "\u001b[1;31mKeyError\u001b[0m                                  Traceback (most recent call last)",
      "\u001b[1;32m<ipython-input-14-51726b83b94a>\u001b[0m in \u001b[0;36m<module>\u001b[1;34m\u001b[0m\n\u001b[0;32m      3\u001b[0m \u001b[0mfruits\u001b[0m \u001b[1;33m=\u001b[0m \u001b[1;33m{\u001b[0m\u001b[1;34m'banana'\u001b[0m\u001b[1;33m:\u001b[0m \u001b[1;36m2\u001b[0m\u001b[1;33m}\u001b[0m\u001b[1;33m\u001b[0m\u001b[1;33m\u001b[0m\u001b[0m\n\u001b[0;32m      4\u001b[0m \u001b[1;33m\u001b[0m\u001b[0m\n\u001b[1;32m----> 5\u001b[1;33m \u001b[0mfruits\u001b[0m\u001b[1;33m[\u001b[0m\u001b[1;34m'apple'\u001b[0m\u001b[1;33m]\u001b[0m \u001b[1;33m+=\u001b[0m \u001b[1;36m10\u001b[0m\u001b[1;33m\u001b[0m\u001b[1;33m\u001b[0m\u001b[0m\n\u001b[0m\u001b[0;32m      6\u001b[0m \u001b[0mprint\u001b[0m\u001b[1;33m(\u001b[0m\u001b[0mfruits\u001b[0m\u001b[1;33m)\u001b[0m\u001b[1;33m\u001b[0m\u001b[1;33m\u001b[0m\u001b[0m\n",
      "\u001b[1;31mKeyError\u001b[0m: 'apple'"
     ]
    }
   ],
   "source": [
    "# setdefault()\n",
    "\n",
    "fruits = {'banana': 2}\n",
    "\n",
    "fruits['apple'] += 10\n",
    "print(fruits)"
   ]
  },
  {
   "cell_type": "code",
   "execution_count": null,
   "metadata": {},
   "outputs": [],
   "source": []
  },
  {
   "cell_type": "code",
   "execution_count": 1,
   "metadata": {},
   "outputs": [
    {
     "name": "stdout",
     "output_type": "stream",
     "text": [
      "banana apple\n"
     ]
    },
    {
     "ename": "TypeError",
     "evalue": "'banana' is an invalid keyword argument for print()",
     "output_type": "error",
     "traceback": [
      "\u001b[1;31m---------------------------------------------------------------------------\u001b[0m",
      "\u001b[1;31mTypeError\u001b[0m                                 Traceback (most recent call last)",
      "\u001b[1;32m<ipython-input-1-bd6d5ddfc560>\u001b[0m in \u001b[0;36m<module>\u001b[1;34m\u001b[0m\n\u001b[0;32m      3\u001b[0m \u001b[0mfruits\u001b[0m \u001b[1;33m=\u001b[0m \u001b[1;33m{\u001b[0m\u001b[1;34m'banana'\u001b[0m\u001b[1;33m:\u001b[0m \u001b[1;36m2\u001b[0m\u001b[1;33m,\u001b[0m \u001b[1;34m'apple'\u001b[0m\u001b[1;33m:\u001b[0m \u001b[1;36m4\u001b[0m\u001b[1;33m}\u001b[0m\u001b[1;33m\u001b[0m\u001b[1;33m\u001b[0m\u001b[0m\n\u001b[0;32m      4\u001b[0m \u001b[0mprint\u001b[0m\u001b[1;33m(\u001b[0m\u001b[1;33m*\u001b[0m\u001b[0mfruits\u001b[0m\u001b[1;33m)\u001b[0m\u001b[1;33m\u001b[0m\u001b[1;33m\u001b[0m\u001b[0m\n\u001b[1;32m----> 5\u001b[1;33m \u001b[0mprint\u001b[0m\u001b[1;33m(\u001b[0m\u001b[1;33m**\u001b[0m\u001b[0mfruits\u001b[0m\u001b[1;33m)\u001b[0m\u001b[1;33m\u001b[0m\u001b[1;33m\u001b[0m\u001b[0m\n\u001b[0m",
      "\u001b[1;31mTypeError\u001b[0m: 'banana' is an invalid keyword argument for print()"
     ]
    }
   ],
   "source": [
    "# merge two dicts\n",
    "\n",
    "fruits = {'banana': 2, 'apple': 4}\n",
    "result = {**fruits, **cereal}\n",
    "print(**fruits)"
   ]
  },
  {
   "cell_type": "code",
   "execution_count": null,
   "metadata": {},
   "outputs": [],
   "source": []
  },
  {
   "cell_type": "code",
   "execution_count": 16,
   "metadata": {},
   "outputs": [
    {
     "name": "stdout",
     "output_type": "stream",
     "text": [
      "{'banana': 2, 'apple': 4, 'rice': 3, 'corn': 7}\n"
     ]
    }
   ],
   "source": [
    "# merge two dicts\n",
    "\n",
    "fruits = {'banana': 2, 'apple': 4}\n",
    "cereal = {'rice': 3, 'corn': 7}\n",
    "\n",
    "result = {**fruits, **cereal}\n",
    "print(result)"
   ]
  },
  {
   "cell_type": "code",
   "execution_count": null,
   "metadata": {},
   "outputs": [],
   "source": []
  },
  {
   "cell_type": "code",
   "execution_count": 18,
   "metadata": {},
   "outputs": [
    {
     "name": "stdout",
     "output_type": "stream",
     "text": [
      "True\n",
      "False\n"
     ]
    }
   ],
   "source": [
    "# check if a key exists\n",
    "\n",
    "fruits = {'banana': 2, 'apple': 4}\n",
    "\n",
    "print('apple' in fruits)\n",
    "print('corn' in fruits)"
   ]
  },
  {
   "cell_type": "code",
   "execution_count": null,
   "metadata": {},
   "outputs": [],
   "source": []
  },
  {
   "cell_type": "code",
   "execution_count": 20,
   "metadata": {},
   "outputs": [
    {
     "name": "stdout",
     "output_type": "stream",
     "text": [
      "{'banana': 2}\n"
     ]
    }
   ],
   "source": [
    "# remove empty items\n",
    "\n",
    "fruits = {'banana': 2, 'apple': None}\n",
    "\n",
    "dict1 = {key:value for (key, value) \n",
    "                     in fruits.items() \n",
    "                     if value is not None}\n",
    "print(dict1)"
   ]
  },
  {
   "cell_type": "code",
   "execution_count": null,
   "metadata": {},
   "outputs": [],
   "source": []
  },
  {
   "cell_type": "code",
   "execution_count": 22,
   "metadata": {},
   "outputs": [
    {
     "name": "stdout",
     "output_type": "stream",
     "text": [
      "4\n",
      "None\n"
     ]
    }
   ],
   "source": [
    "# access value via key\n",
    "\n",
    "fruits = {'banana': 2, 'apple': 4}\n",
    "print(fruits.get('apple'))\n",
    "print(fruits.get('corn'))"
   ]
  },
  {
   "cell_type": "code",
   "execution_count": 21,
   "metadata": {},
   "outputs": [
    {
     "name": "stdout",
     "output_type": "stream",
     "text": [
      "4\n"
     ]
    },
    {
     "ename": "KeyError",
     "evalue": "'corn'",
     "output_type": "error",
     "traceback": [
      "\u001b[1;31m---------------------------------------------------------------------------\u001b[0m",
      "\u001b[1;31mKeyError\u001b[0m                                  Traceback (most recent call last)",
      "\u001b[1;32m<ipython-input-21-bda9d1f64a8f>\u001b[0m in \u001b[0;36m<module>\u001b[1;34m\u001b[0m\n\u001b[0;32m      3\u001b[0m \u001b[0mfruits\u001b[0m \u001b[1;33m=\u001b[0m \u001b[1;33m{\u001b[0m\u001b[1;34m'banana'\u001b[0m\u001b[1;33m:\u001b[0m \u001b[1;36m2\u001b[0m\u001b[1;33m,\u001b[0m \u001b[1;34m'apple'\u001b[0m\u001b[1;33m:\u001b[0m \u001b[1;36m4\u001b[0m\u001b[1;33m}\u001b[0m\u001b[1;33m\u001b[0m\u001b[1;33m\u001b[0m\u001b[0m\n\u001b[0;32m      4\u001b[0m \u001b[0mprint\u001b[0m\u001b[1;33m(\u001b[0m\u001b[0mfruits\u001b[0m\u001b[1;33m[\u001b[0m\u001b[1;34m'apple'\u001b[0m\u001b[1;33m]\u001b[0m\u001b[1;33m)\u001b[0m\u001b[1;33m\u001b[0m\u001b[1;33m\u001b[0m\u001b[0m\n\u001b[1;32m----> 5\u001b[1;33m \u001b[0mprint\u001b[0m\u001b[1;33m(\u001b[0m\u001b[0mfruits\u001b[0m\u001b[1;33m[\u001b[0m\u001b[1;34m'corn'\u001b[0m\u001b[1;33m]\u001b[0m\u001b[1;33m)\u001b[0m\u001b[1;33m\u001b[0m\u001b[1;33m\u001b[0m\u001b[0m\n\u001b[0m",
      "\u001b[1;31mKeyError\u001b[0m: 'corn'"
     ]
    }
   ],
   "source": [
    "# access value via key\n",
    "\n",
    "fruits = {'banana': 2, 'apple': 4}\n",
    "print(fruits['apple'])\n",
    "print(fruits['corn'])"
   ]
  },
  {
   "cell_type": "code",
   "execution_count": null,
   "metadata": {},
   "outputs": [],
   "source": []
  },
  {
   "cell_type": "markdown",
   "metadata": {},
   "source": [
    "## Dictionary and File"
   ]
  },
  {
   "cell_type": "code",
   "execution_count": null,
   "metadata": {},
   "outputs": [],
   "source": [
    "import json\n",
    "\n",
    "parameters = {'learning_rate': 0.1,\n",
    "              'optimizer': 'Adam',\n",
    "              'metric': 'Accuracy'}\n",
    "\n",
    "with open('data.json', 'w') as fp:\n",
    "    json.dump(parameters, fp)"
   ]
  },
  {
   "cell_type": "code",
   "execution_count": null,
   "metadata": {},
   "outputs": [],
   "source": [
    "with open('data.json', 'r') as fp:\n",
    "    data = json.load(fp)\n",
    "    print(data)"
   ]
  },
  {
   "cell_type": "code",
   "execution_count": null,
   "metadata": {},
   "outputs": [],
   "source": [
    "print(data['learning_rate'])"
   ]
  },
  {
   "cell_type": "code",
   "execution_count": null,
   "metadata": {},
   "outputs": [],
   "source": []
  },
  {
   "cell_type": "markdown",
   "metadata": {},
   "source": [
    "## Iterables and Sorting"
   ]
  },
  {
   "cell_type": "code",
   "execution_count": 1,
   "metadata": {},
   "outputs": [
    {
     "name": "stdout",
     "output_type": "stream",
     "text": [
      "[1, 5, 3, 7, 4]\n",
      "[1, 3, 4, 5, 7]\n"
     ]
    }
   ],
   "source": [
    "# create a list\n",
    "aList = [1, 5, 3, 7, 4]\n",
    "print(aList)\n",
    "\n",
    "# sort\n",
    "sortedList = sorted(aList)\n",
    "print(sortedList)"
   ]
  },
  {
   "cell_type": "code",
   "execution_count": null,
   "metadata": {},
   "outputs": [],
   "source": []
  },
  {
   "cell_type": "code",
   "execution_count": 2,
   "metadata": {},
   "outputs": [
    {
     "name": "stdout",
     "output_type": "stream",
     "text": [
      "[1, 5, 3, 7, 4]\n",
      "[1, 3, 4, 5, 7]\n"
     ]
    }
   ],
   "source": [
    "# create a list\n",
    "aList = [1, 5, 3, 7, 4]\n",
    "print(aList)\n",
    "\n",
    "# function for sorting\n",
    "def compare(item):\n",
    "    return item\n",
    "\n",
    "# sort\n",
    "sortedList = sorted(aList, key=compare)\n",
    "print(sortedList)"
   ]
  },
  {
   "cell_type": "code",
   "execution_count": null,
   "metadata": {},
   "outputs": [],
   "source": []
  },
  {
   "cell_type": "code",
   "execution_count": 6,
   "metadata": {},
   "outputs": [
    {
     "name": "stdout",
     "output_type": "stream",
     "text": [
      "{1: 16, 5: 13, 3: 18, 7: 11, 4: 15}\n"
     ]
    }
   ],
   "source": [
    "# data\n",
    "list1 = [1, 5, 3, 7, 4]\n",
    "list2 = [16, 13, 18, 11, 15]\n",
    "\n",
    "# create a dictionary\n",
    "dictionary = dict(zip(list1, list2))\n",
    "print(dictionary)"
   ]
  },
  {
   "cell_type": "code",
   "execution_count": 7,
   "metadata": {},
   "outputs": [
    {
     "name": "stdout",
     "output_type": "stream",
     "text": [
      "[1, 3, 4, 5, 7]\n"
     ]
    }
   ],
   "source": [
    "sortedDict = sorted(dictionary)\n",
    "print(sortedDict)"
   ]
  },
  {
   "cell_type": "code",
   "execution_count": null,
   "metadata": {},
   "outputs": [],
   "source": []
  },
  {
   "cell_type": "code",
   "execution_count": 8,
   "metadata": {},
   "outputs": [
    {
     "name": "stdout",
     "output_type": "stream",
     "text": [
      "[('a', 16), ('g', 13), ('e', 18), ('h', 11), ('b', 15)]\n"
     ]
    }
   ],
   "source": [
    "# data\n",
    "list1 = ['a', 'g', 'e', 'h', 'b']\n",
    "list2 = [16, 13, 18, 11, 15]\n",
    "\n",
    "# create a dictionary\n",
    "list3 = list(zip(list1, list2))\n",
    "print(list3)"
   ]
  },
  {
   "cell_type": "code",
   "execution_count": 9,
   "metadata": {},
   "outputs": [
    {
     "name": "stdout",
     "output_type": "stream",
     "text": [
      "[('a', 16), ('b', 15), ('e', 18), ('g', 13), ('h', 11)]\n"
     ]
    }
   ],
   "source": [
    "list4 = sorted(list3)\n",
    "print(list4)"
   ]
  },
  {
   "cell_type": "code",
   "execution_count": null,
   "metadata": {},
   "outputs": [],
   "source": []
  },
  {
   "cell_type": "code",
   "execution_count": 14,
   "metadata": {},
   "outputs": [
    {
     "name": "stdout",
     "output_type": "stream",
     "text": [
      "[('a', 16), ('g', 13), ('e', 18), ('h', 11), ('b', 15)]\n"
     ]
    }
   ],
   "source": [
    "# data\n",
    "list1 = ['a', 'g', 'e', 'h', 'b']\n",
    "list2 = [16, 13, 18, 11, 15]\n",
    "\n",
    "# function for sorting\n",
    "def compare(item):\n",
    "    return item[0]\n",
    "\n",
    "# create a dictionary\n",
    "list3 = list(zip(list1, list2))\n",
    "print(list3)"
   ]
  },
  {
   "cell_type": "code",
   "execution_count": 15,
   "metadata": {},
   "outputs": [
    {
     "name": "stdout",
     "output_type": "stream",
     "text": [
      "[('a', 16), ('b', 15), ('e', 18), ('g', 13), ('h', 11)]\n"
     ]
    }
   ],
   "source": [
    "list4 = sorted(list3, key=compare)\n",
    "print(list4)"
   ]
  },
  {
   "cell_type": "code",
   "execution_count": null,
   "metadata": {},
   "outputs": [],
   "source": []
  },
  {
   "cell_type": "code",
   "execution_count": 16,
   "metadata": {},
   "outputs": [
    {
     "name": "stdout",
     "output_type": "stream",
     "text": [
      "[('a', 16), ('g', 13), ('e', 18), ('h', 11), ('b', 15)]\n"
     ]
    }
   ],
   "source": [
    "# data\n",
    "list1 = ['a', 'g', 'e', 'h', 'b']\n",
    "list2 = [16, 13, 18, 11, 15]\n",
    "\n",
    "# function for sorting\n",
    "def compare(item):\n",
    "    return item[1]\n",
    "\n",
    "# create a dictionary\n",
    "list3 = list(zip(list1, list2))\n",
    "print(list3)"
   ]
  },
  {
   "cell_type": "code",
   "execution_count": 17,
   "metadata": {},
   "outputs": [
    {
     "name": "stdout",
     "output_type": "stream",
     "text": [
      "[('h', 11), ('g', 13), ('b', 15), ('a', 16), ('e', 18)]\n"
     ]
    }
   ],
   "source": [
    "list4 = sorted(list3, key=compare)\n",
    "print(list4)"
   ]
  },
  {
   "cell_type": "code",
   "execution_count": null,
   "metadata": {},
   "outputs": [],
   "source": []
  },
  {
   "cell_type": "code",
   "execution_count": 18,
   "metadata": {},
   "outputs": [
    {
     "name": "stdout",
     "output_type": "stream",
     "text": [
      "[('a', 16), ('g', 13), ('e', 18), ('h', 11), ('b', 15)]\n"
     ]
    }
   ],
   "source": [
    "# data\n",
    "list1 = ['a', 'g', 'e', 'h', 'b']\n",
    "list2 = [16, 13, 18, 11, 15]\n",
    "\n",
    "# create a dictionary\n",
    "list3 = list(zip(list1, list2))\n",
    "print(list3)"
   ]
  },
  {
   "cell_type": "code",
   "execution_count": 19,
   "metadata": {},
   "outputs": [
    {
     "name": "stdout",
     "output_type": "stream",
     "text": [
      "[('h', 11), ('g', 13), ('b', 15), ('a', 16), ('e', 18)]\n"
     ]
    }
   ],
   "source": [
    "list4 = sorted(list3, key=lambda item: item[1])\n",
    "print(list4)"
   ]
  },
  {
   "cell_type": "code",
   "execution_count": null,
   "metadata": {},
   "outputs": [],
   "source": []
  }
 ],
 "metadata": {
  "kernelspec": {
   "display_name": "Python 3 (ipykernel)",
   "language": "python",
   "name": "python3"
  },
  "language_info": {
   "codemirror_mode": {
    "name": "ipython",
    "version": 3
   },
   "file_extension": ".py",
   "mimetype": "text/x-python",
   "name": "python",
   "nbconvert_exporter": "python",
   "pygments_lexer": "ipython3",
   "version": "3.9.13"
  }
 },
 "nbformat": 4,
 "nbformat_minor": 2
}
